{
 "cells": [
  {
   "cell_type": "code",
   "execution_count": null,
   "id": "3e0fac28",
   "metadata": {},
   "outputs": [],
   "source": [
    "# Đọc & Tổ hợp dữ liệu"
   ]
  },
  {
   "cell_type": "code",
   "execution_count": 1,
   "id": "aefd04b0",
   "metadata": {},
   "outputs": [],
   "source": [
    "import pandas as pd\n",
    "\n",
    "# Load the data to see its structure and content\n",
    "data_path = '../Data/raw/Data_Collect.csv'\n",
    "data = pd.read_csv(data_path)\n"
   ]
  },
  {
   "cell_type": "code",
   "execution_count": 2,
   "id": "e43867fe",
   "metadata": {},
   "outputs": [
    {
     "data": {
      "text/plain": [
       "'../Data/raw/combination_data.csv'"
      ]
     },
     "execution_count": 2,
     "metadata": {},
     "output_type": "execute_result"
    }
   ],
   "source": [
    "from itertools import combinations\n",
    "import pandas as pd\n",
    "\n",
    "# Định nghĩa lại sample_columns dựa trên cấu trúc bộ dữ liệu ban đầu\n",
    "# Giả sử rằng chúng ta lấy 6 cột đầu tiên sau cột 'Kỹ năng' để xem xét\n",
    "sample_columns = data.columns[1:7]\n",
    "\n",
    "# Tạo các tổ hợp biểu hiện không có mặt\n",
    "combined_data = []\n",
    "for r in range(1, 7):  # Từ 1 đến 6 biểu hiện không có mặt\n",
    "    for combo in combinations(sample_columns, r):\n",
    "        temp_data = data.copy()\n",
    "        for col in combo:\n",
    "            temp_data[col] = 0\n",
    "        combined_data.append(temp_data)\n",
    "\n",
    "# Tạo một DataFrame rỗng để chứa tất cả các tổ hợp\n",
    "all_combinations_df = pd.DataFrame()\n",
    "\n",
    "# Lặp qua và gộp tất cả các tổ hợp vào DataFrame tổng\n",
    "for i, df in enumerate(combined_data):\n",
    "    all_combinations_df = pd.concat([all_combinations_df, df], ignore_index=True)\n",
    "\n",
    "# Xuất kết quả ra một file CSV\n",
    "final_output_path = '../Data/raw/combination_data.csv'\n",
    "all_combinations_df.to_csv(final_output_path, index=False)\n",
    "\n",
    "final_output_path\n"
   ]
  },
  {
   "cell_type": "code",
   "execution_count": 3,
   "id": "5b5aab51",
   "metadata": {},
   "outputs": [
    {
     "name": "stdout",
     "output_type": "stream",
     "text": [
      "(13, 79)\n"
     ]
    }
   ],
   "source": [
    "print(data.shape)"
   ]
  },
  {
   "cell_type": "code",
   "execution_count": null,
   "id": "7dbe2ed6",
   "metadata": {},
   "outputs": [],
   "source": []
  }
 ],
 "metadata": {
  "kernelspec": {
   "display_name": "Python 3 (ipykernel)",
   "language": "python",
   "name": "python3"
  },
  "language_info": {
   "codemirror_mode": {
    "name": "ipython",
    "version": 3
   },
   "file_extension": ".py",
   "mimetype": "text/x-python",
   "name": "python",
   "nbconvert_exporter": "python",
   "pygments_lexer": "ipython3",
   "version": "3.11.5"
  }
 },
 "nbformat": 4,
 "nbformat_minor": 5
}
