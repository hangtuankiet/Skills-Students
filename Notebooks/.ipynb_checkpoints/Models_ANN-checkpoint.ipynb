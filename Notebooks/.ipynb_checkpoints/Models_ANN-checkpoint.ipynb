{
 "cells": [
  {
   "cell_type": "markdown",
   "id": "9a395414",
   "metadata": {},
   "source": [
    "# Đọc file"
   ]
  },
  {
   "cell_type": "code",
   "execution_count": 65,
   "id": "79b5aae2",
   "metadata": {},
   "outputs": [
    {
     "name": "stdout",
     "output_type": "stream",
     "text": [
      "Số lượng hàng và cột:\n",
      "(819, 79)\n"
     ]
    },
    {
     "data": {
      "text/html": [
       "<div>\n",
       "<style scoped>\n",
       "    .dataframe tbody tr th:only-of-type {\n",
       "        vertical-align: middle;\n",
       "    }\n",
       "\n",
       "    .dataframe tbody tr th {\n",
       "        vertical-align: top;\n",
       "    }\n",
       "\n",
       "    .dataframe thead th {\n",
       "        text-align: right;\n",
       "    }\n",
       "</style>\n",
       "<table border=\"1\" class=\"dataframe\">\n",
       "  <thead>\n",
       "    <tr style=\"text-align: right;\">\n",
       "      <th></th>\n",
       "      <th>Kỹ năng</th>\n",
       "      <th>Trình bày luận điểm một cách có hệ thống rõ ràng</th>\n",
       "      <th>Sử dụng dẫn chứng thống kê đáng tin cậy</th>\n",
       "      <th>Chủ động đưa ra các ví dụ trường hợp cụ thể để minh họa cho luận điểm</th>\n",
       "      <th>Có khả năng tóm tắt vấn đề một cách rõ ràng ngắn gọn</th>\n",
       "      <th>Sử dụng ngôn ngữ rõ ràng logic và lập luận chặt chẽ</th>\n",
       "      <th>Có khả năng điều chỉnh quan điểm dựa trên lập luận và bằng chứng mới</th>\n",
       "      <th>Trình bày các bằng chứng dẫn chứng thuyết phục</th>\n",
       "      <th>Sử dụng ngữ điệu nhấn nhá hợp lý khi nói để thu hút người nghe</th>\n",
       "      <th>Biết lắng nghe và tôn trọng quan điểm của đối phương</th>\n",
       "      <th>...</th>\n",
       "      <th>Phân biệt được giữa bằng chứng mạnh và yếu</th>\n",
       "      <th>Nhận diện được các lỗi logic và thiếu sót trong lập luận</th>\n",
       "      <th>Sử dụng tiêu chí rõ ràng và công bằng để đánh giá luận điểm</th>\n",
       "      <th>Đưa ra phản hồi và gợi ý cải thiện dựa trên đánh giá</th>\n",
       "      <th>Kết hợp thông tin từ nhiều nguồn để tạo ra một cái nhìn tổng thể</th>\n",
       "      <th>Xem xét mối quan hệ giữa các ý tưởng và thông tin để xây dựng luận điểm mới</th>\n",
       "      <th>Tạo liên kết giữa các quan điểm và lập luận có vẻ mâu thuẫn nhau</th>\n",
       "      <th>Sử dụng tư duy sáng tạo để phát triển giải pháp hoặc ý tưởng mới</th>\n",
       "      <th>Tổng hợp kết luận dựa trên đánh giá và phân tích</th>\n",
       "      <th>Trình bày thông tin một cách rõ ràng và mạch lạc thể hiện sự hiểu biết tổng thể</th>\n",
       "    </tr>\n",
       "  </thead>\n",
       "  <tbody>\n",
       "    <tr>\n",
       "      <th>0</th>\n",
       "      <td>Kỹ năng tranh luận Lập luận Logic</td>\n",
       "      <td>0</td>\n",
       "      <td>1</td>\n",
       "      <td>1</td>\n",
       "      <td>1</td>\n",
       "      <td>1</td>\n",
       "      <td>1</td>\n",
       "      <td>0</td>\n",
       "      <td>0</td>\n",
       "      <td>0</td>\n",
       "      <td>...</td>\n",
       "      <td>0</td>\n",
       "      <td>0</td>\n",
       "      <td>0</td>\n",
       "      <td>0</td>\n",
       "      <td>0</td>\n",
       "      <td>0</td>\n",
       "      <td>0</td>\n",
       "      <td>0</td>\n",
       "      <td>0</td>\n",
       "      <td>0</td>\n",
       "    </tr>\n",
       "    <tr>\n",
       "      <th>1</th>\n",
       "      <td>Kỹ năng tranh luận Thuyết Phục</td>\n",
       "      <td>0</td>\n",
       "      <td>0</td>\n",
       "      <td>0</td>\n",
       "      <td>0</td>\n",
       "      <td>0</td>\n",
       "      <td>0</td>\n",
       "      <td>1</td>\n",
       "      <td>1</td>\n",
       "      <td>1</td>\n",
       "      <td>...</td>\n",
       "      <td>0</td>\n",
       "      <td>0</td>\n",
       "      <td>0</td>\n",
       "      <td>0</td>\n",
       "      <td>0</td>\n",
       "      <td>0</td>\n",
       "      <td>0</td>\n",
       "      <td>0</td>\n",
       "      <td>0</td>\n",
       "      <td>0</td>\n",
       "    </tr>\n",
       "    <tr>\n",
       "      <th>2</th>\n",
       "      <td>Kỹ năng tranh luận Phản Biện</td>\n",
       "      <td>0</td>\n",
       "      <td>0</td>\n",
       "      <td>0</td>\n",
       "      <td>0</td>\n",
       "      <td>0</td>\n",
       "      <td>0</td>\n",
       "      <td>0</td>\n",
       "      <td>0</td>\n",
       "      <td>0</td>\n",
       "      <td>...</td>\n",
       "      <td>0</td>\n",
       "      <td>0</td>\n",
       "      <td>0</td>\n",
       "      <td>0</td>\n",
       "      <td>0</td>\n",
       "      <td>0</td>\n",
       "      <td>0</td>\n",
       "      <td>0</td>\n",
       "      <td>0</td>\n",
       "      <td>0</td>\n",
       "    </tr>\n",
       "    <tr>\n",
       "      <th>3</th>\n",
       "      <td>Kỹ năng kiểm soát cảm xúc</td>\n",
       "      <td>0</td>\n",
       "      <td>0</td>\n",
       "      <td>0</td>\n",
       "      <td>0</td>\n",
       "      <td>0</td>\n",
       "      <td>0</td>\n",
       "      <td>0</td>\n",
       "      <td>0</td>\n",
       "      <td>0</td>\n",
       "      <td>...</td>\n",
       "      <td>0</td>\n",
       "      <td>0</td>\n",
       "      <td>0</td>\n",
       "      <td>0</td>\n",
       "      <td>0</td>\n",
       "      <td>0</td>\n",
       "      <td>0</td>\n",
       "      <td>0</td>\n",
       "      <td>0</td>\n",
       "      <td>0</td>\n",
       "    </tr>\n",
       "    <tr>\n",
       "      <th>4</th>\n",
       "      <td>Kỹ năng Quản Lý Thời Gian</td>\n",
       "      <td>0</td>\n",
       "      <td>0</td>\n",
       "      <td>0</td>\n",
       "      <td>0</td>\n",
       "      <td>0</td>\n",
       "      <td>0</td>\n",
       "      <td>0</td>\n",
       "      <td>0</td>\n",
       "      <td>0</td>\n",
       "      <td>...</td>\n",
       "      <td>0</td>\n",
       "      <td>0</td>\n",
       "      <td>0</td>\n",
       "      <td>0</td>\n",
       "      <td>0</td>\n",
       "      <td>0</td>\n",
       "      <td>0</td>\n",
       "      <td>0</td>\n",
       "      <td>0</td>\n",
       "      <td>0</td>\n",
       "    </tr>\n",
       "  </tbody>\n",
       "</table>\n",
       "<p>5 rows × 79 columns</p>\n",
       "</div>"
      ],
      "text/plain": [
       "                             Kỹ năng  \\\n",
       "0  Kỹ năng tranh luận Lập luận Logic   \n",
       "1     Kỹ năng tranh luận Thuyết Phục   \n",
       "2       Kỹ năng tranh luận Phản Biện   \n",
       "3          Kỹ năng kiểm soát cảm xúc   \n",
       "4          Kỹ năng Quản Lý Thời Gian   \n",
       "\n",
       "   Trình bày luận điểm một cách có hệ thống rõ ràng  \\\n",
       "0                                                 0   \n",
       "1                                                 0   \n",
       "2                                                 0   \n",
       "3                                                 0   \n",
       "4                                                 0   \n",
       "\n",
       "   Sử dụng dẫn chứng thống kê đáng tin cậy  \\\n",
       "0                                        1   \n",
       "1                                        0   \n",
       "2                                        0   \n",
       "3                                        0   \n",
       "4                                        0   \n",
       "\n",
       "   Chủ động đưa ra các ví dụ trường hợp cụ thể để minh họa cho luận điểm  \\\n",
       "0                                                  1                       \n",
       "1                                                  0                       \n",
       "2                                                  0                       \n",
       "3                                                  0                       \n",
       "4                                                  0                       \n",
       "\n",
       "   Có khả năng tóm tắt vấn đề một cách rõ ràng ngắn gọn  \\\n",
       "0                                                  1      \n",
       "1                                                  0      \n",
       "2                                                  0      \n",
       "3                                                  0      \n",
       "4                                                  0      \n",
       "\n",
       "   Sử dụng ngôn ngữ rõ ràng logic và lập luận chặt chẽ  \\\n",
       "0                                                  1     \n",
       "1                                                  0     \n",
       "2                                                  0     \n",
       "3                                                  0     \n",
       "4                                                  0     \n",
       "\n",
       "   Có khả năng điều chỉnh quan điểm dựa trên lập luận và bằng chứng mới  \\\n",
       "0                                                  1                      \n",
       "1                                                  0                      \n",
       "2                                                  0                      \n",
       "3                                                  0                      \n",
       "4                                                  0                      \n",
       "\n",
       "   Trình bày các bằng chứng dẫn chứng thuyết phục  \\\n",
       "0                                               0   \n",
       "1                                               1   \n",
       "2                                               0   \n",
       "3                                               0   \n",
       "4                                               0   \n",
       "\n",
       "   Sử dụng ngữ điệu nhấn nhá hợp lý khi nói để thu hút người nghe  \\\n",
       "0                                                  0                \n",
       "1                                                  1                \n",
       "2                                                  0                \n",
       "3                                                  0                \n",
       "4                                                  0                \n",
       "\n",
       "   Biết lắng nghe và tôn trọng quan điểm của đối phương  ...  \\\n",
       "0                                                  0     ...   \n",
       "1                                                  1     ...   \n",
       "2                                                  0     ...   \n",
       "3                                                  0     ...   \n",
       "4                                                  0     ...   \n",
       "\n",
       "   Phân biệt được giữa bằng chứng mạnh và yếu  \\\n",
       "0                                           0   \n",
       "1                                           0   \n",
       "2                                           0   \n",
       "3                                           0   \n",
       "4                                           0   \n",
       "\n",
       "   Nhận diện được các lỗi logic và thiếu sót trong lập luận  \\\n",
       "0                                                  0          \n",
       "1                                                  0          \n",
       "2                                                  0          \n",
       "3                                                  0          \n",
       "4                                                  0          \n",
       "\n",
       "   Sử dụng tiêu chí rõ ràng và công bằng để đánh giá luận điểm  \\\n",
       "0                                                  0             \n",
       "1                                                  0             \n",
       "2                                                  0             \n",
       "3                                                  0             \n",
       "4                                                  0             \n",
       "\n",
       "   Đưa ra phản hồi và gợi ý cải thiện dựa trên đánh giá  \\\n",
       "0                                                  0      \n",
       "1                                                  0      \n",
       "2                                                  0      \n",
       "3                                                  0      \n",
       "4                                                  0      \n",
       "\n",
       "   Kết hợp thông tin từ nhiều nguồn để tạo ra một cái nhìn tổng thể  \\\n",
       "0                                                  0                  \n",
       "1                                                  0                  \n",
       "2                                                  0                  \n",
       "3                                                  0                  \n",
       "4                                                  0                  \n",
       "\n",
       "   Xem xét mối quan hệ giữa các ý tưởng và thông tin để xây dựng luận điểm mới  \\\n",
       "0                                                  0                             \n",
       "1                                                  0                             \n",
       "2                                                  0                             \n",
       "3                                                  0                             \n",
       "4                                                  0                             \n",
       "\n",
       "   Tạo liên kết giữa các quan điểm và lập luận có vẻ mâu thuẫn nhau  \\\n",
       "0                                                  0                  \n",
       "1                                                  0                  \n",
       "2                                                  0                  \n",
       "3                                                  0                  \n",
       "4                                                  0                  \n",
       "\n",
       "   Sử dụng tư duy sáng tạo để phát triển giải pháp hoặc ý tưởng mới  \\\n",
       "0                                                  0                  \n",
       "1                                                  0                  \n",
       "2                                                  0                  \n",
       "3                                                  0                  \n",
       "4                                                  0                  \n",
       "\n",
       "   Tổng hợp kết luận dựa trên đánh giá và phân tích  \\\n",
       "0                                                 0   \n",
       "1                                                 0   \n",
       "2                                                 0   \n",
       "3                                                 0   \n",
       "4                                                 0   \n",
       "\n",
       "   Trình bày thông tin một cách rõ ràng và mạch lạc thể hiện sự hiểu biết tổng thể  \n",
       "0                                                  0                                \n",
       "1                                                  0                                \n",
       "2                                                  0                                \n",
       "3                                                  0                                \n",
       "4                                                  0                                \n",
       "\n",
       "[5 rows x 79 columns]"
      ]
     },
     "execution_count": 65,
     "metadata": {},
     "output_type": "execute_result"
    }
   ],
   "source": [
    "import pandas as pd\n",
    "\n",
    "data = pd.read_csv('../Data/raw/all_combinations_including_6.csv')\n",
    "print(\"Số lượng hàng và cột:\")\n",
    "print(data.shape)\n",
    "data.head()\n"
   ]
  },
  {
   "cell_type": "markdown",
   "id": "e5efb2ac",
   "metadata": {},
   "source": [
    "# Tiền xử lý dữ liệu"
   ]
  },
  {
   "cell_type": "code",
   "execution_count": 53,
   "id": "d61549c2",
   "metadata": {},
   "outputs": [],
   "source": [
    "# Dữ liệu đã được số hóa nên không cần thiết phải tiền xử lý \n",
    "#from sklearn.preprocessing import LabelEncoder\n",
    "\n",
    "# # Khởi tạo LabelEncoder\n",
    "# label_encoder = LabelEncoder()\n",
    "\n",
    "# # Số hóa dữ liệu cho mỗi cột (trừ cột \"Kỹ năng\" vì nó có thể là nhãn hoặc mô tả dữ liệu)\n",
    "# encoded_data = data.copy()  # Tạo bản sao của dữ liệu để giữ nguyên dữ liệu gốc\n",
    "# for column in encoded_data.columns[1:]:  # Bỏ qua cột đầu tiên là \"Kỹ năng\"\n",
    "#     #encoded_data[column] = label_encoder.fit_transform(encoded_data[column])\n",
    "#     encoded_data[column] = 1 - label_encoder.fit_transform(encoded_data[column])\n",
    "\n",
    "# Hiển thị dữ liệu sau khi được số hóa\n",
    "#encoded_data.head()\n",
    "\n",
    "# # Kiểm tra dữ liệu thiếu trong tập dữ liệu đã được số hóa\n",
    "# missing_data = encoded_data.isnull().sum()\n",
    "\n",
    "# # Hiển thị số lượng dữ liệu thiếu cho mỗi cột\n",
    "# missing_data[missing_data > 0]\n"
   ]
  },
  {
   "cell_type": "code",
   "execution_count": 81,
   "id": "a8f80615",
   "metadata": {},
   "outputs": [],
   "source": [
    "from sklearn.preprocessing import LabelEncoder\n",
    "label_encoder = LabelEncoder()"
   ]
  },
  {
   "cell_type": "markdown",
   "id": "42d7bf84",
   "metadata": {},
   "source": [
    "# Phân chia dữ liệu"
   ]
  },
  {
   "cell_type": "code",
   "execution_count": 82,
   "id": "35969bd3",
   "metadata": {},
   "outputs": [],
   "source": [
    "from sklearn.model_selection import train_test_split\n",
    "\n",
    "# Cột \"Kỹ năng\" là nhãn (target) cần dự đoán\n",
    "X = data.drop('Kỹ năng', axis=1)  # Dữ liệu đầu vào (features)\n",
    "y = label_encoder.fit_transform(data['Kỹ năng'])  # Dữ liệu đầu ra (target), đã được số hóa\n",
    "\n",
    "# Chia dữ liệu thành tập huấn luyện và tập kiểm tra với tỉ lệ là 80% huấn luyện và 20% kiểm tra\n",
    "X_train, X_test, y_train, y_test = train_test_split(X, y, test_size=0.2, random_state=0)\n",
    "\n"
   ]
  },
  {
   "cell_type": "markdown",
   "id": "e8345261",
   "metadata": {},
   "source": [
    "# Biểu đồ phân phối"
   ]
  },
  {
   "cell_type": "code",
   "execution_count": 83,
   "id": "7b6d8e9a",
   "metadata": {},
   "outputs": [],
   "source": [
    "# import matplotlib.pyplot as plt\n",
    "# import seaborn as sns\n",
    "\n",
    "# for column in X_train.columns:\n",
    "#     plt.figure(figsize=(10, 5))\n",
    "#     sns.distplot(X_train[column], label='Train', kde=True, hist=True)\n",
    "#     sns.distplot(X_test[column], label='Test', kde=True, hist=True)\n",
    "#     plt.legend()\n",
    "#     plt.title(f'Distribution of {column}')\n",
    "#     plt.show()\n"
   ]
  },
  {
   "cell_type": "markdown",
   "id": "5fab7a71",
   "metadata": {},
   "source": [
    "# Xây dựng mô hình"
   ]
  },
  {
   "cell_type": "code",
   "execution_count": 84,
   "id": "790706fa",
   "metadata": {
    "scrolled": false
   },
   "outputs": [
    {
     "name": "stdout",
     "output_type": "stream",
     "text": [
      "Epoch 1/52\n"
     ]
    },
    {
     "name": "stderr",
     "output_type": "stream",
     "text": [
      "C:\\Users\\Acer\\anaconda3\\Lib\\site-packages\\keras\\src\\layers\\core\\dense.py:88: UserWarning: Do not pass an `input_shape`/`input_dim` argument to a layer. When using Sequential models, prefer using an `Input(shape)` object as the first layer in the model instead.\n",
      "  super().__init__(activity_regularizer=activity_regularizer, **kwargs)\n"
     ]
    },
    {
     "name": "stdout",
     "output_type": "stream",
     "text": [
      "\u001b[1m5/5\u001b[0m \u001b[32m━━━━━━━━━━━━━━━━━━━━\u001b[0m\u001b[37m\u001b[0m \u001b[1m1s\u001b[0m 37ms/step - accuracy: 0.0858 - loss: 4.6981 - val_accuracy: 0.2901 - val_loss: 3.7110\n",
      "Epoch 2/52\n",
      "\u001b[1m5/5\u001b[0m \u001b[32m━━━━━━━━━━━━━━━━━━━━\u001b[0m\u001b[37m\u001b[0m \u001b[1m0s\u001b[0m 9ms/step - accuracy: 0.0998 - loss: 4.5749 - val_accuracy: 0.2901 - val_loss: 3.6821\n",
      "Epoch 3/52\n",
      "\u001b[1m5/5\u001b[0m \u001b[32m━━━━━━━━━━━━━━━━━━━━\u001b[0m\u001b[37m\u001b[0m \u001b[1m0s\u001b[0m 7ms/step - accuracy: 0.1229 - loss: 4.4397 - val_accuracy: 0.3664 - val_loss: 3.6561\n",
      "Epoch 4/52\n",
      "\u001b[1m5/5\u001b[0m \u001b[32m━━━━━━━━━━━━━━━━━━━━\u001b[0m\u001b[37m\u001b[0m \u001b[1m0s\u001b[0m 7ms/step - accuracy: 0.1241 - loss: 4.3167 - val_accuracy: 0.3664 - val_loss: 3.6313\n",
      "Epoch 5/52\n",
      "\u001b[1m5/5\u001b[0m \u001b[32m━━━━━━━━━━━━━━━━━━━━\u001b[0m\u001b[37m\u001b[0m \u001b[1m0s\u001b[0m 7ms/step - accuracy: 0.1291 - loss: 4.4844 - val_accuracy: 0.3664 - val_loss: 3.6030\n",
      "Epoch 6/52\n",
      "\u001b[1m5/5\u001b[0m \u001b[32m━━━━━━━━━━━━━━━━━━━━\u001b[0m\u001b[37m\u001b[0m \u001b[1m0s\u001b[0m 8ms/step - accuracy: 0.1312 - loss: 4.2471 - val_accuracy: 0.3664 - val_loss: 3.5748\n",
      "Epoch 7/52\n",
      "\u001b[1m5/5\u001b[0m \u001b[32m━━━━━━━━━━━━━━━━━━━━\u001b[0m\u001b[37m\u001b[0m \u001b[1m0s\u001b[0m 7ms/step - accuracy: 0.1468 - loss: 4.1458 - val_accuracy: 0.3664 - val_loss: 3.5472\n",
      "Epoch 8/52\n",
      "\u001b[1m5/5\u001b[0m \u001b[32m━━━━━━━━━━━━━━━━━━━━\u001b[0m\u001b[37m\u001b[0m \u001b[1m0s\u001b[0m 7ms/step - accuracy: 0.1932 - loss: 3.9404 - val_accuracy: 0.3740 - val_loss: 3.5195\n",
      "Epoch 9/52\n",
      "\u001b[1m5/5\u001b[0m \u001b[32m━━━━━━━━━━━━━━━━━━━━\u001b[0m\u001b[37m\u001b[0m \u001b[1m0s\u001b[0m 7ms/step - accuracy: 0.1731 - loss: 3.8427 - val_accuracy: 0.4580 - val_loss: 3.4898\n",
      "Epoch 10/52\n",
      "\u001b[1m5/5\u001b[0m \u001b[32m━━━━━━━━━━━━━━━━━━━━\u001b[0m\u001b[37m\u001b[0m \u001b[1m0s\u001b[0m 9ms/step - accuracy: 0.1585 - loss: 3.9037 - val_accuracy: 0.4580 - val_loss: 3.4601\n",
      "Epoch 11/52\n",
      "\u001b[1m5/5\u001b[0m \u001b[32m━━━━━━━━━━━━━━━━━━━━\u001b[0m\u001b[37m\u001b[0m \u001b[1m0s\u001b[0m 9ms/step - accuracy: 0.1858 - loss: 3.7875 - val_accuracy: 0.4580 - val_loss: 3.4305\n",
      "Epoch 12/52\n",
      "\u001b[1m5/5\u001b[0m \u001b[32m━━━━━━━━━━━━━━━━━━━━\u001b[0m\u001b[37m\u001b[0m \u001b[1m0s\u001b[0m 8ms/step - accuracy: 0.1878 - loss: 3.6909 - val_accuracy: 0.4580 - val_loss: 3.4016\n",
      "Epoch 13/52\n",
      "\u001b[1m5/5\u001b[0m \u001b[32m━━━━━━━━━━━━━━━━━━━━\u001b[0m\u001b[37m\u001b[0m \u001b[1m0s\u001b[0m 9ms/step - accuracy: 0.2167 - loss: 3.6893 - val_accuracy: 0.4580 - val_loss: 3.3698\n",
      "Epoch 14/52\n",
      "\u001b[1m5/5\u001b[0m \u001b[32m━━━━━━━━━━━━━━━━━━━━\u001b[0m\u001b[37m\u001b[0m \u001b[1m0s\u001b[0m 7ms/step - accuracy: 0.2356 - loss: 3.4997 - val_accuracy: 0.4580 - val_loss: 3.3433\n",
      "Epoch 15/52\n",
      "\u001b[1m5/5\u001b[0m \u001b[32m━━━━━━━━━━━━━━━━━━━━\u001b[0m\u001b[37m\u001b[0m \u001b[1m0s\u001b[0m 7ms/step - accuracy: 0.2430 - loss: 3.5296 - val_accuracy: 0.4656 - val_loss: 3.3164\n",
      "Epoch 16/52\n",
      "\u001b[1m5/5\u001b[0m \u001b[32m━━━━━━━━━━━━━━━━━━━━\u001b[0m\u001b[37m\u001b[0m \u001b[1m0s\u001b[0m 7ms/step - accuracy: 0.2147 - loss: 3.5359 - val_accuracy: 0.4656 - val_loss: 3.2896\n",
      "Epoch 17/52\n",
      "\u001b[1m5/5\u001b[0m \u001b[32m━━━━━━━━━━━━━━━━━━━━\u001b[0m\u001b[37m\u001b[0m \u001b[1m0s\u001b[0m 7ms/step - accuracy: 0.2551 - loss: 3.3750 - val_accuracy: 0.4656 - val_loss: 3.2629\n",
      "Epoch 18/52\n",
      "\u001b[1m5/5\u001b[0m \u001b[32m━━━━━━━━━━━━━━━━━━━━\u001b[0m\u001b[37m\u001b[0m \u001b[1m0s\u001b[0m 7ms/step - accuracy: 0.2519 - loss: 3.3297 - val_accuracy: 0.4656 - val_loss: 3.2357\n",
      "Epoch 19/52\n",
      "\u001b[1m5/5\u001b[0m \u001b[32m━━━━━━━━━━━━━━━━━━━━\u001b[0m\u001b[37m\u001b[0m \u001b[1m0s\u001b[0m 7ms/step - accuracy: 0.3218 - loss: 3.1664 - val_accuracy: 0.4656 - val_loss: 3.2108\n",
      "Epoch 20/52\n",
      "\u001b[1m5/5\u001b[0m \u001b[32m━━━━━━━━━━━━━━━━━━━━\u001b[0m\u001b[37m\u001b[0m \u001b[1m0s\u001b[0m 7ms/step - accuracy: 0.2477 - loss: 3.3245 - val_accuracy: 0.4656 - val_loss: 3.1859\n",
      "Epoch 21/52\n",
      "\u001b[1m5/5\u001b[0m \u001b[32m━━━━━━━━━━━━━━━━━━━━\u001b[0m\u001b[37m\u001b[0m \u001b[1m0s\u001b[0m 7ms/step - accuracy: 0.2623 - loss: 3.2547 - val_accuracy: 0.4656 - val_loss: 3.1636\n",
      "Epoch 22/52\n",
      "\u001b[1m5/5\u001b[0m \u001b[32m━━━━━━━━━━━━━━━━━━━━\u001b[0m\u001b[37m\u001b[0m \u001b[1m0s\u001b[0m 9ms/step - accuracy: 0.2769 - loss: 3.1998 - val_accuracy: 0.4656 - val_loss: 3.1388\n",
      "Epoch 23/52\n",
      "\u001b[1m5/5\u001b[0m \u001b[32m━━━━━━━━━━━━━━━━━━━━\u001b[0m\u001b[37m\u001b[0m \u001b[1m0s\u001b[0m 7ms/step - accuracy: 0.2816 - loss: 3.1490 - val_accuracy: 0.5725 - val_loss: 3.1153\n",
      "Epoch 24/52\n",
      "\u001b[1m5/5\u001b[0m \u001b[32m━━━━━━━━━━━━━━━━━━━━\u001b[0m\u001b[37m\u001b[0m \u001b[1m0s\u001b[0m 7ms/step - accuracy: 0.3029 - loss: 3.0957 - val_accuracy: 0.5725 - val_loss: 3.0901\n",
      "Epoch 25/52\n",
      "\u001b[1m5/5\u001b[0m \u001b[32m━━━━━━━━━━━━━━━━━━━━\u001b[0m\u001b[37m\u001b[0m \u001b[1m0s\u001b[0m 9ms/step - accuracy: 0.3085 - loss: 3.0901 - val_accuracy: 0.5725 - val_loss: 3.0650\n",
      "Epoch 26/52\n",
      "\u001b[1m5/5\u001b[0m \u001b[32m━━━━━━━━━━━━━━━━━━━━\u001b[0m\u001b[37m\u001b[0m \u001b[1m0s\u001b[0m 8ms/step - accuracy: 0.2732 - loss: 3.0999 - val_accuracy: 0.5725 - val_loss: 3.0382\n",
      "Epoch 27/52\n",
      "\u001b[1m5/5\u001b[0m \u001b[32m━━━━━━━━━━━━━━━━━━━━\u001b[0m\u001b[37m\u001b[0m \u001b[1m0s\u001b[0m 8ms/step - accuracy: 0.3097 - loss: 3.0160 - val_accuracy: 0.5725 - val_loss: 3.0142\n",
      "Epoch 28/52\n",
      "\u001b[1m5/5\u001b[0m \u001b[32m━━━━━━━━━━━━━━━━━━━━\u001b[0m\u001b[37m\u001b[0m \u001b[1m0s\u001b[0m 8ms/step - accuracy: 0.3210 - loss: 3.0000 - val_accuracy: 0.5802 - val_loss: 2.9880\n",
      "Epoch 29/52\n",
      "\u001b[1m5/5\u001b[0m \u001b[32m━━━━━━━━━━━━━━━━━━━━\u001b[0m\u001b[37m\u001b[0m \u001b[1m0s\u001b[0m 8ms/step - accuracy: 0.2920 - loss: 3.0383 - val_accuracy: 0.5802 - val_loss: 2.9607\n",
      "Epoch 30/52\n",
      "\u001b[1m5/5\u001b[0m \u001b[32m━━━━━━━━━━━━━━━━━━━━\u001b[0m\u001b[37m\u001b[0m \u001b[1m0s\u001b[0m 8ms/step - accuracy: 0.3872 - loss: 2.9054 - val_accuracy: 0.5802 - val_loss: 2.9330\n",
      "Epoch 31/52\n",
      "\u001b[1m5/5\u001b[0m \u001b[32m━━━━━━━━━━━━━━━━━━━━\u001b[0m\u001b[37m\u001b[0m \u001b[1m0s\u001b[0m 7ms/step - accuracy: 0.3644 - loss: 2.8597 - val_accuracy: 0.5802 - val_loss: 2.9047\n",
      "Epoch 32/52\n",
      "\u001b[1m5/5\u001b[0m \u001b[32m━━━━━━━━━━━━━━━━━━━━\u001b[0m\u001b[37m\u001b[0m \u001b[1m0s\u001b[0m 7ms/step - accuracy: 0.3380 - loss: 2.9004 - val_accuracy: 0.5802 - val_loss: 2.8759\n",
      "Epoch 33/52\n",
      "\u001b[1m5/5\u001b[0m \u001b[32m━━━━━━━━━━━━━━━━━━━━\u001b[0m\u001b[37m\u001b[0m \u001b[1m0s\u001b[0m 10ms/step - accuracy: 0.3911 - loss: 2.8028 - val_accuracy: 0.5802 - val_loss: 2.8486\n",
      "Epoch 34/52\n",
      "\u001b[1m5/5\u001b[0m \u001b[32m━━━━━━━━━━━━━━━━━━━━\u001b[0m\u001b[37m\u001b[0m \u001b[1m0s\u001b[0m 7ms/step - accuracy: 0.3728 - loss: 2.8772 - val_accuracy: 0.6260 - val_loss: 2.8220\n",
      "Epoch 35/52\n",
      "\u001b[1m5/5\u001b[0m \u001b[32m━━━━━━━━━━━━━━━━━━━━\u001b[0m\u001b[37m\u001b[0m \u001b[1m0s\u001b[0m 7ms/step - accuracy: 0.4024 - loss: 2.7156 - val_accuracy: 0.6260 - val_loss: 2.7980\n",
      "Epoch 36/52\n",
      "\u001b[1m5/5\u001b[0m \u001b[32m━━━━━━━━━━━━━━━━━━━━\u001b[0m\u001b[37m\u001b[0m \u001b[1m0s\u001b[0m 7ms/step - accuracy: 0.3827 - loss: 2.7417 - val_accuracy: 0.7176 - val_loss: 2.7756\n",
      "Epoch 37/52\n",
      "\u001b[1m5/5\u001b[0m \u001b[32m━━━━━━━━━━━━━━━━━━━━\u001b[0m\u001b[37m\u001b[0m \u001b[1m0s\u001b[0m 7ms/step - accuracy: 0.3829 - loss: 2.6945 - val_accuracy: 0.7176 - val_loss: 2.7493\n",
      "Epoch 38/52\n",
      "\u001b[1m5/5\u001b[0m \u001b[32m━━━━━━━━━━━━━━━━━━━━\u001b[0m\u001b[37m\u001b[0m \u001b[1m0s\u001b[0m 7ms/step - accuracy: 0.3827 - loss: 2.7912 - val_accuracy: 0.7176 - val_loss: 2.7220\n",
      "Epoch 39/52\n",
      "\u001b[1m5/5\u001b[0m \u001b[32m━━━━━━━━━━━━━━━━━━━━\u001b[0m\u001b[37m\u001b[0m \u001b[1m0s\u001b[0m 7ms/step - accuracy: 0.3911 - loss: 2.6908 - val_accuracy: 0.7176 - val_loss: 2.6974\n",
      "Epoch 40/52\n",
      "\u001b[1m5/5\u001b[0m \u001b[32m━━━━━━━━━━━━━━━━━━━━\u001b[0m\u001b[37m\u001b[0m \u001b[1m0s\u001b[0m 7ms/step - accuracy: 0.4015 - loss: 2.6641 - val_accuracy: 0.7176 - val_loss: 2.6747\n",
      "Epoch 41/52\n",
      "\u001b[1m5/5\u001b[0m \u001b[32m━━━━━━━━━━━━━━━━━━━━\u001b[0m\u001b[37m\u001b[0m \u001b[1m0s\u001b[0m 7ms/step - accuracy: 0.3415 - loss: 2.6970 - val_accuracy: 0.7252 - val_loss: 2.6515\n",
      "Epoch 42/52\n",
      "\u001b[1m5/5\u001b[0m \u001b[32m━━━━━━━━━━━━━━━━━━━━\u001b[0m\u001b[37m\u001b[0m \u001b[1m0s\u001b[0m 7ms/step - accuracy: 0.4094 - loss: 2.6408 - val_accuracy: 0.7252 - val_loss: 2.6252\n",
      "Epoch 43/52\n",
      "\u001b[1m5/5\u001b[0m \u001b[32m━━━━━━━━━━━━━━━━━━━━\u001b[0m\u001b[37m\u001b[0m \u001b[1m0s\u001b[0m 7ms/step - accuracy: 0.3905 - loss: 2.6736 - val_accuracy: 0.7252 - val_loss: 2.6023\n",
      "Epoch 44/52\n",
      "\u001b[1m5/5\u001b[0m \u001b[32m━━━━━━━━━━━━━━━━━━━━\u001b[0m\u001b[37m\u001b[0m \u001b[1m0s\u001b[0m 7ms/step - accuracy: 0.4273 - loss: 2.5857 - val_accuracy: 0.7557 - val_loss: 2.5761\n",
      "Epoch 45/52\n",
      "\u001b[1m5/5\u001b[0m \u001b[32m━━━━━━━━━━━━━━━━━━━━\u001b[0m\u001b[37m\u001b[0m \u001b[1m0s\u001b[0m 7ms/step - accuracy: 0.4302 - loss: 2.5627 - val_accuracy: 0.7557 - val_loss: 2.5484\n",
      "Epoch 46/52\n",
      "\u001b[1m5/5\u001b[0m \u001b[32m━━━━━━━━━━━━━━━━━━━━\u001b[0m\u001b[37m\u001b[0m \u001b[1m0s\u001b[0m 7ms/step - accuracy: 0.4210 - loss: 2.5846 - val_accuracy: 0.8550 - val_loss: 2.5214\n",
      "Epoch 47/52\n",
      "\u001b[1m5/5\u001b[0m \u001b[32m━━━━━━━━━━━━━━━━━━━━\u001b[0m\u001b[37m\u001b[0m \u001b[1m0s\u001b[0m 7ms/step - accuracy: 0.4282 - loss: 2.5822 - val_accuracy: 0.8626 - val_loss: 2.4996\n",
      "Epoch 48/52\n",
      "\u001b[1m5/5\u001b[0m \u001b[32m━━━━━━━━━━━━━━━━━━━━\u001b[0m\u001b[37m\u001b[0m \u001b[1m0s\u001b[0m 7ms/step - accuracy: 0.4141 - loss: 2.6186 - val_accuracy: 0.8702 - val_loss: 2.4733\n",
      "Epoch 49/52\n",
      "\u001b[1m5/5\u001b[0m \u001b[32m━━━━━━━━━━━━━━━━━━━━\u001b[0m\u001b[37m\u001b[0m \u001b[1m0s\u001b[0m 7ms/step - accuracy: 0.4319 - loss: 2.5839 - val_accuracy: 0.8702 - val_loss: 2.4480\n",
      "Epoch 50/52\n",
      "\u001b[1m5/5\u001b[0m \u001b[32m━━━━━━━━━━━━━━━━━━━━\u001b[0m\u001b[37m\u001b[0m \u001b[1m0s\u001b[0m 8ms/step - accuracy: 0.3903 - loss: 2.5361 - val_accuracy: 0.8702 - val_loss: 2.4228\n",
      "Epoch 51/52\n",
      "\u001b[1m5/5\u001b[0m \u001b[32m━━━━━━━━━━━━━━━━━━━━\u001b[0m\u001b[37m\u001b[0m \u001b[1m0s\u001b[0m 9ms/step - accuracy: 0.4691 - loss: 2.4622 - val_accuracy: 0.8702 - val_loss: 2.3988\n",
      "Epoch 52/52\n",
      "\u001b[1m5/5\u001b[0m \u001b[32m━━━━━━━━━━━━━━━━━━━━\u001b[0m\u001b[37m\u001b[0m \u001b[1m0s\u001b[0m 8ms/step - accuracy: 0.4527 - loss: 2.4971 - val_accuracy: 0.9771 - val_loss: 2.3712\n",
      "Restoring model weights from the end of the best epoch: 52.\n",
      "\u001b[1m6/6\u001b[0m \u001b[32m━━━━━━━━━━━━━━━━━━━━\u001b[0m\u001b[37m\u001b[0m \u001b[1m0s\u001b[0m 1ms/step - accuracy: 0.9706 - loss: 2.3849 \n",
      "Test loss: 2.4043996334075928\n",
      "Test accuracy: 0.9695122241973877\n"
     ]
    }
   ],
   "source": [
    "from tensorflow.keras.models import Sequential\n",
    "from tensorflow.keras.layers import Dense, Dropout, BatchNormalization\n",
    "from tensorflow.keras.regularizers import l2\n",
    "from tensorflow.keras.optimizers import Adam\n",
    "from tensorflow.keras.callbacks import EarlyStopping\n",
    "from tensorflow.keras.utils import to_categorical\n",
    "import numpy as np\n",
    "\n",
    "# Xác định số lượng nhãn duy nhất\n",
    "num_unique_labels = np.unique(y).shape[0]\n",
    "\n",
    "# Giả định rằng X_train, y_train, X_test, y_test, và num_unique_labels đã được định nghĩa\n",
    "# Chuyển đổi nhãn sang one-hot encoding\n",
    "y_train_one_hot = to_categorical(y_train, num_classes=num_unique_labels)\n",
    "y_test_one_hot = to_categorical(y_test, num_classes=num_unique_labels)\n",
    "\n",
    "# Xây dựng mô hình với cấu hình giảm kích thước, tăng L2 regularization và Dropout\n",
    "model = Sequential([\n",
    "    Dense(32, activation='relu', input_shape=(X_train.shape[1],), kernel_regularizer=l2(0.02)),  \n",
    "    BatchNormalization(),\n",
    "    Dropout(0.6),  \n",
    "    Dense(16, activation='relu', kernel_regularizer=l2(0.02)),  \n",
    "    BatchNormalization(),\n",
    "    Dropout(0.6),  \n",
    "    Dense(num_unique_labels, activation='softmax')\n",
    "])\n",
    "# Biên dịch mô hình\n",
    "model.compile(optimizer=Adam(learning_rate=0.0005),  \n",
    "              loss='categorical_crossentropy', \n",
    "              metrics=['accuracy'])\n",
    "\n",
    "\n",
    "# model.compile(optimizer=Adam(learning_rate=0.001), loss='categorical_crossentropy', metrics=['accuracy'])\n",
    "\n",
    "# Định nghĩa callback EarlyStopping\n",
    "early_stopping = EarlyStopping(monitor='val_loss', patience=10, restore_best_weights=True, verbose=1)\n",
    "\n",
    "# Huấn luyện mô hình với Early Stopping\n",
    "history = model.fit(X_train, y_train_one_hot, epochs=52, batch_size=128, validation_split=0.2, verbose=1, callbacks=[early_stopping])\n",
    "\n",
    "# Đánh giá mô hình trên tập kiểm tra\n",
    "loss, accuracy = model.evaluate(X_test, y_test_one_hot)\n",
    "print(f'Test loss: {loss}\\nTest accuracy: {accuracy}')\n"
   ]
  },
  {
   "cell_type": "markdown",
   "id": "34e13cb6",
   "metadata": {},
   "source": [
    "# đồ thị loss và accuracy"
   ]
  },
  {
   "cell_type": "code",
   "execution_count": 85,
   "id": "2a31cb73",
   "metadata": {},
   "outputs": [
    {
     "data": {
      "image/png": "[encoded data removed]",
      "text/plain": [
       "<Figure size 640x480 with 1 Axes>"
      ]
     },
     "metadata": {},
     "output_type": "display_data"
    },
    {
     "data": {
      "image/png": "[encoded data removed]",
      "text/plain": [
       "<Figure size 640x480 with 1 Axes>"
      ]
     },
     "metadata": {},
     "output_type": "display_data"
    }
   ],
   "source": [
    "import matplotlib.pyplot as plt\n",
    "\n",
    "# Vẽ đồ thị loss\n",
    "plt.plot(history.history['loss'], label='Training Loss')\n",
    "plt.plot(history.history['val_loss'], label='Validation Loss')\n",
    "plt.title('Training and Validation Loss')\n",
    "plt.legend()\n",
    "plt.show()\n",
    "\n",
    "# Vẽ đồ thị accuracy\n",
    "plt.plot(history.history['accuracy'], label='Training Accuracy')\n",
    "plt.plot(history.history['val_accuracy'], label='Validation Accuracy')\n",
    "plt.title('Training and Validation Accuracy')\n",
    "plt.legend()\n",
    "plt.show()\n",
    "\n"
   ]
  },
  {
   "cell_type": "markdown",
   "id": "0cb5c268",
   "metadata": {},
   "source": [
    "# Tái sử dụng models"
   ]
  },
  {
   "cell_type": "code",
   "execution_count": 86,
   "id": "54db595f",
   "metadata": {},
   "outputs": [],
   "source": [
    "# # Lưu mô hình\n",
    "# model.save('model.h5')\n",
    "\n",
    "# # Tải mô hình\n",
    "# from tensorflow.keras.models import load_model\n",
    "# model = load_model('model.h5')\n",
    "    "
   ]
  },
  {
   "cell_type": "markdown",
   "id": "71e91bcd",
   "metadata": {},
   "source": [
    "# Thực Hiện Dự Đoán"
   ]
  },
  {
   "cell_type": "code",
   "execution_count": 92,
   "id": "6454f816",
   "metadata": {},
   "outputs": [
    {
     "data": {
      "application/vnd.jupyter.widget-view+json": {
       "model_id": "76873b849f024c239a50ee63fe4f6f99",
       "version_major": 2,
       "version_minor": 0
      },
      "text/plain": [
       "Checkbox(value=False, description='Trình bày luận điểm một cách có hệ thống rõ ràng')"
      ]
     },
     "metadata": {},
     "output_type": "display_data"
    },
    {
     "data": {
      "application/vnd.jupyter.widget-view+json": {
       "model_id": "22e12608cb6242e8a0babb6687ec0420",
       "version_major": 2,
       "version_minor": 0
      },
      "text/plain": [
       "Checkbox(value=False, description='Sử dụng dẫn chứng thống kê đáng tin cậy')"
      ]
     },
     "metadata": {},
     "output_type": "display_data"
    },
    {
     "data": {
      "application/vnd.jupyter.widget-view+json": {
       "model_id": "e0fe701af3004b0a8df5508877df0d21",
       "version_major": 2,
       "version_minor": 0
      },
      "text/plain": [
       "Checkbox(value=False, description='Chủ động đưa ra các ví dụ trường hợp cụ thể để minh họa cho luận điểm')"
      ]
     },
     "metadata": {},
     "output_type": "display_data"
    },
    {
     "data": {
      "application/vnd.jupyter.widget-view+json": {
       "model_id": "70e00bd9658e4589a02ddfc5d39df105",
       "version_major": 2,
       "version_minor": 0
      },
      "text/plain": [
       "Checkbox(value=False, description='Có khả năng tóm tắt vấn đề một cách rõ ràng ngắn gọn')"
      ]
     },
     "metadata": {},
     "output_type": "display_data"
    },
    {
     "data": {
      "application/vnd.jupyter.widget-view+json": {
       "model_id": "7fb4ace768bc4cf2aa270fd7c15d06dd",
       "version_major": 2,
       "version_minor": 0
      },
      "text/plain": [
       "Checkbox(value=False, description='Sử dụng ngôn ngữ rõ ràng logic và lập luận chặt chẽ')"
      ]
     },
     "metadata": {},
     "output_type": "display_data"
    },
    {
     "data": {
      "application/vnd.jupyter.widget-view+json": {
       "model_id": "a6bcaf8db1bd4d4b90c7fce725eb4e43",
       "version_major": 2,
       "version_minor": 0
      },
      "text/plain": [
       "Checkbox(value=False, description='Có khả năng điều chỉnh quan điểm dựa trên lập luận và bằng chứng mới')"
      ]
     },
     "metadata": {},
     "output_type": "display_data"
    },
    {
     "data": {
      "application/vnd.jupyter.widget-view+json": {
       "model_id": "74fac1da174748a087a25500cd7909ad",
       "version_major": 2,
       "version_minor": 0
      },
      "text/plain": [
       "Checkbox(value=False, description='Trình bày các bằng chứng dẫn chứng thuyết phục')"
      ]
     },
     "metadata": {},
     "output_type": "display_data"
    },
    {
     "data": {
      "application/vnd.jupyter.widget-view+json": {
       "model_id": "82894037712044d7910e74b35a91e84c",
       "version_major": 2,
       "version_minor": 0
      },
      "text/plain": [
       "Checkbox(value=False, description='Sử dụng ngữ điệu nhấn nhá hợp lý khi nói để thu hút người nghe')"
      ]
     },
     "metadata": {},
     "output_type": "display_data"
    },
    {
     "data": {
      "application/vnd.jupyter.widget-view+json": {
       "model_id": "8b2c258ec86b40f281b770950c8a12db",
       "version_major": 2,
       "version_minor": 0
      },
      "text/plain": [
       "Checkbox(value=False, description='Biết lắng nghe và tôn trọng quan điểm của đối phương')"
      ]
     },
     "metadata": {},
     "output_type": "display_data"
    },
    {
     "data": {
      "application/vnd.jupyter.widget-view+json": {
       "model_id": "45a33de0786444b1b95ffffa0ec34ba3",
       "version_major": 2,
       "version_minor": 0
      },
      "text/plain": [
       "Checkbox(value=False, description='Sẵn sàng thừa nhận sai sót nếu có bằng chứng chứng minh')"
      ]
     },
     "metadata": {},
     "output_type": "display_data"
    },
    {
     "data": {
      "application/vnd.jupyter.widget-view+json": {
       "model_id": "063934f369974d03951fcfcec9ae2bbf",
       "version_major": 2,
       "version_minor": 0
      },
      "text/plain": [
       "Checkbox(value=False, description='Tự tin bình tĩnh và tập trung cao độ trong suốt quá trình tranh luận')"
      ]
     },
     "metadata": {},
     "output_type": "display_data"
    },
    {
     "data": {
      "application/vnd.jupyter.widget-view+json": {
       "model_id": "9a45146a9150419b8d093bb2542f7b13",
       "version_major": 2,
       "version_minor": 0
      },
      "text/plain": [
       "Checkbox(value=False, description='Có khả năng đọc hiểu và sử dụng ngôn ngữ cơ thể một cách chuyên nghiệp')"
      ]
     },
     "metadata": {},
     "output_type": "display_data"
    },
    {
     "data": {
      "application/vnd.jupyter.widget-view+json": {
       "model_id": "1a8eb1d7ffc04ec1b69c763927a4e8e4",
       "version_major": 2,
       "version_minor": 0
      },
      "text/plain": [
       "Checkbox(value=False, description='Phân tích các luận điểm một cách khách quan')"
      ]
     },
     "metadata": {},
     "output_type": "display_data"
    },
    {
     "data": {
      "application/vnd.jupyter.widget-view+json": {
       "model_id": "434bb8d74d44481087944c0289226d2d",
       "version_major": 2,
       "version_minor": 0
      },
      "text/plain": [
       "Checkbox(value=False, description='Đặt câu hỏi sâu sắc để làm rõ vấn đề')"
      ]
     },
     "metadata": {},
     "output_type": "display_data"
    },
    {
     "data": {
      "application/vnd.jupyter.widget-view+json": {
       "model_id": "bb447cdfa9a74bbf9e00d74089175383",
       "version_major": 2,
       "version_minor": 0
      },
      "text/plain": [
       "Checkbox(value=False, description='Giữ bình tĩnh và không cáu giận hay xúc phạm đối phương')"
      ]
     },
     "metadata": {},
     "output_type": "display_data"
    },
    {
     "data": {
      "application/vnd.jupyter.widget-view+json": {
       "model_id": "a1b012912ffe4037a93a51130734c165",
       "version_major": 2,
       "version_minor": 0
      },
      "text/plain": [
       "Checkbox(value=False, description='Suy nghĩ sáng tạo đưa ra các giải pháp thay thế')"
      ]
     },
     "metadata": {},
     "output_type": "display_data"
    },
    {
     "data": {
      "application/vnd.jupyter.widget-view+json": {
       "model_id": "ade81fea87464a4bb807317a80896dc0",
       "version_major": 2,
       "version_minor": 0
      },
      "text/plain": [
       "Checkbox(value=False, description='Đánh giá cả hai mặt tích cực và tiêu cực của vấn đề')"
      ]
     },
     "metadata": {},
     "output_type": "display_data"
    },
    {
     "data": {
      "application/vnd.jupyter.widget-view+json": {
       "model_id": "2e1664e107f44e58a96a407e40dee9e6",
       "version_major": 2,
       "version_minor": 0
      },
      "text/plain": [
       "Checkbox(value=False, description='Có tư duy phản biện tốt')"
      ]
     },
     "metadata": {},
     "output_type": "display_data"
    },
    {
     "data": {
      "application/vnd.jupyter.widget-view+json": {
       "model_id": "f7ce277b3b6a4c4284a18a9373033b69",
       "version_major": 2,
       "version_minor": 0
      },
      "text/plain": [
       "Checkbox(value=False, description='Suy luận logic khi giải quyết vấn đề')"
      ]
     },
     "metadata": {},
     "output_type": "display_data"
    },
    {
     "data": {
      "application/vnd.jupyter.widget-view+json": {
       "model_id": "1377f2c2e19d4eecaf27d7283683a8a9",
       "version_major": 2,
       "version_minor": 0
      },
      "text/plain": [
       "Checkbox(value=False, description='Phân tích thông tin để đưa ra nhận định và suy luận')"
      ]
     },
     "metadata": {},
     "output_type": "display_data"
    },
    {
     "data": {
      "application/vnd.jupyter.widget-view+json": {
       "model_id": "0c1d77c163db421e8f72b37e6512a94d",
       "version_major": 2,
       "version_minor": 0
      },
      "text/plain": [
       "Checkbox(value=False, description='Sử dụng lập luận logic để chứng minh điều gì đó')"
      ]
     },
     "metadata": {},
     "output_type": "display_data"
    },
    {
     "data": {
      "application/vnd.jupyter.widget-view+json": {
       "model_id": "94d193bfe67c443ab4e704054da01614",
       "version_major": 2,
       "version_minor": 0
      },
      "text/plain": [
       "Checkbox(value=False, description='Đưa ra giả thuyết và kiểm chứng chúng')"
      ]
     },
     "metadata": {},
     "output_type": "display_data"
    },
    {
     "data": {
      "application/vnd.jupyter.widget-view+json": {
       "model_id": "4f42faa480a849aeafaf3f1f8eb01fd3",
       "version_major": 2,
       "version_minor": 0
      },
      "text/plain": [
       "Checkbox(value=False, description='Nhận biết và tránh các sai lầm logic')"
      ]
     },
     "metadata": {},
     "output_type": "display_data"
    },
    {
     "data": {
      "application/vnd.jupyter.widget-view+json": {
       "model_id": "762ecd86c6a445f39951af6e80aaf24e",
       "version_major": 2,
       "version_minor": 0
      },
      "text/plain": [
       "Checkbox(value=False, description='Áp dụng quy tắc loại trừ để tìm ra giải pháp')"
      ]
     },
     "metadata": {},
     "output_type": "display_data"
    },
    {
     "data": {
      "application/vnd.jupyter.widget-view+json": {
       "model_id": "1ce8686c6e5842828598ce155bcdee61",
       "version_major": 2,
       "version_minor": 0
      },
      "text/plain": [
       "Checkbox(value=False, description='Đặt câu hỏi để thách thức và kiểm chứng thông tin')"
      ]
     },
     "metadata": {},
     "output_type": "display_data"
    },
    {
     "data": {
      "application/vnd.jupyter.widget-view+json": {
       "model_id": "dd851117c60943ceac2fcb760c5dd8a5",
       "version_major": 2,
       "version_minor": 0
      },
      "text/plain": [
       "Checkbox(value=False, description='Phân tích các luận điểm và đánh giá bằng chứng')"
      ]
     },
     "metadata": {},
     "output_type": "display_data"
    },
    {
     "data": {
      "application/vnd.jupyter.widget-view+json": {
       "model_id": "35f1feb07e29425ab3d2ae9d12a5297c",
       "version_major": 2,
       "version_minor": 0
      },
      "text/plain": [
       "Checkbox(value=False, description='Xét vấn đề từ nhiều khía cạnh và quan điểm')"
      ]
     },
     "metadata": {},
     "output_type": "display_data"
    },
    {
     "data": {
      "application/vnd.jupyter.widget-view+json": {
       "model_id": "77b46e14010242d7b18af1ab8c7aec82",
       "version_major": 2,
       "version_minor": 0
      },
      "text/plain": [
       "Checkbox(value=False, description='Sử dụng lý luận logic để đưa ra kết luận')"
      ]
     },
     "metadata": {},
     "output_type": "display_data"
    },
    {
     "data": {
      "application/vnd.jupyter.widget-view+json": {
       "model_id": "cbf95cd5958b4bd1932c12785de66583",
       "version_major": 2,
       "version_minor": 0
      },
      "text/plain": [
       "Checkbox(value=False, description='Tích cực tìm kiếm các quan điểm đối lập')"
      ]
     },
     "metadata": {},
     "output_type": "display_data"
    },
    {
     "data": {
      "application/vnd.jupyter.widget-view+json": {
       "model_id": "7512824f36f344ba86c9ad134291e8f2",
       "version_major": 2,
       "version_minor": 0
      },
      "text/plain": [
       "Checkbox(value=False, description='Biết cách kiểm tra và xác minh tính đúng đắn của thông tin ')"
      ]
     },
     "metadata": {},
     "output_type": "display_data"
    },
    {
     "data": {
      "application/vnd.jupyter.widget-view+json": {
       "model_id": "88d067894c6a47a19cf186f857bf44d7",
       "version_major": 2,
       "version_minor": 0
      },
      "text/plain": [
       "Checkbox(value=False, description='Kết nối các ý tưởng rời rạc để tạo ra giải pháp mới')"
      ]
     },
     "metadata": {},
     "output_type": "display_data"
    },
    {
     "data": {
      "application/vnd.jupyter.widget-view+json": {
       "model_id": "ca1ed46d53d24260ba3812e470a10847",
       "version_major": 2,
       "version_minor": 0
      },
      "text/plain": [
       "Checkbox(value=False, description='Sẵn lòng thử nghiệm những ý tưởng mới và táo bạo')"
      ]
     },
     "metadata": {},
     "output_type": "display_data"
    },
    {
     "data": {
      "application/vnd.jupyter.widget-view+json": {
       "model_id": "44975ff996504ca29732ca2724b47631",
       "version_major": 2,
       "version_minor": 0
      },
      "text/plain": [
       "Checkbox(value=False, description='Tạo ra ý tưởng độc đáo và không giới hạn')"
      ]
     },
     "metadata": {},
     "output_type": "display_data"
    },
    {
     "data": {
      "application/vnd.jupyter.widget-view+json": {
       "model_id": "76b6307dc06c4dffa6a79b35178c5b8e",
       "version_major": 2,
       "version_minor": 0
      },
      "text/plain": [
       "Checkbox(value=False, description='Chấp nhận rủi ro và học hỏi từ thất bại')"
      ]
     },
     "metadata": {},
     "output_type": "display_data"
    },
    {
     "data": {
      "application/vnd.jupyter.widget-view+json": {
       "model_id": "fdafee0ce46e434abffaaaac91f8ea85",
       "version_major": 2,
       "version_minor": 0
      },
      "text/plain": [
       "Checkbox(value=False, description='Luôn tò mò với mọi thứ đang tìm hiểu')"
      ]
     },
     "metadata": {},
     "output_type": "display_data"
    },
    {
     "data": {
      "application/vnd.jupyter.widget-view+json": {
       "model_id": "425310eda2ee4bcb823cf404076d907a",
       "version_major": 2,
       "version_minor": 0
      },
      "text/plain": [
       "Checkbox(value=False, description='Biết cách áp dụng những kiến thức đã học và biến chúng thành giải pháp sáng…"
      ]
     },
     "metadata": {},
     "output_type": "display_data"
    },
    {
     "data": {
      "application/vnd.jupyter.widget-view+json": {
       "model_id": "59a03978c8d543a0b1a7db87c91cfae5",
       "version_major": 2,
       "version_minor": 0
      },
      "text/plain": [
       "Checkbox(value=False, description='Lập kế hoạch và tổ chức thời gian và tài nguyên')"
      ]
     },
     "metadata": {},
     "output_type": "display_data"
    },
    {
     "data": {
      "application/vnd.jupyter.widget-view+json": {
       "model_id": "e8970d6809994f31b9e7b8c2d564c090",
       "version_major": 2,
       "version_minor": 0
      },
      "text/plain": [
       "Checkbox(value=False, description='Sử dụng kỹ năng quản lý để giải quyết vấn đề và đạt được mục tiêu')"
      ]
     },
     "metadata": {},
     "output_type": "display_data"
    },
    {
     "data": {
      "application/vnd.jupyter.widget-view+json": {
       "model_id": "4fe559be2ced4600b756cfd08e5de3fa",
       "version_major": 2,
       "version_minor": 0
      },
      "text/plain": [
       "Checkbox(value=False, description='Theo dõi và đánh giá tiến độ và hiệu suất')"
      ]
     },
     "metadata": {},
     "output_type": "display_data"
    },
    {
     "data": {
      "application/vnd.jupyter.widget-view+json": {
       "model_id": "271d8948415f4781828f9e98700c9dfd",
       "version_major": 2,
       "version_minor": 0
      },
      "text/plain": [
       "Checkbox(value=False, description='Khả năng thích nghi với thay đổi và quản lý rủi ro')"
      ]
     },
     "metadata": {},
     "output_type": "display_data"
    },
    {
     "data": {
      "application/vnd.jupyter.widget-view+json": {
       "model_id": "e194fbc64c5c4b0fa85d23861b749f2a",
       "version_major": 2,
       "version_minor": 0
      },
      "text/plain": [
       "Checkbox(value=False, description='Lập kế hoạch dự phòng và ứng phó với tình huống khẩn cấp')"
      ]
     },
     "metadata": {},
     "output_type": "display_data"
    },
    {
     "data": {
      "application/vnd.jupyter.widget-view+json": {
       "model_id": "7cf0774c253e4736a51e83b5279d147c",
       "version_major": 2,
       "version_minor": 0
      },
      "text/plain": [
       "Checkbox(value=False, description='Biết cách xử lý xung đột và giải quyết vấn đề hiệu quả')"
      ]
     },
     "metadata": {},
     "output_type": "display_data"
    },
    {
     "data": {
      "application/vnd.jupyter.widget-view+json": {
       "model_id": "08e5926ccea74199911c7967e1127f6e",
       "version_major": 2,
       "version_minor": 0
      },
      "text/plain": [
       "Checkbox(value=False, description='Giữ bình tĩnh dù trong tình huống gây cấn')"
      ]
     },
     "metadata": {},
     "output_type": "display_data"
    },
    {
     "data": {
      "application/vnd.jupyter.widget-view+json": {
       "model_id": "59191286a1f546b2b11f30fe633c8b0e",
       "version_major": 2,
       "version_minor": 0
      },
      "text/plain": [
       "Checkbox(value=False, description='Phản ứng một cách suy nghĩ thay vì phản xạ tức thời dựa trên cảm xúc')"
      ]
     },
     "metadata": {},
     "output_type": "display_data"
    },
    {
     "data": {
      "application/vnd.jupyter.widget-view+json": {
       "model_id": "4d25dc9a05cd452f939c3d3a326fd597",
       "version_major": 2,
       "version_minor": 0
      },
      "text/plain": [
       "Checkbox(value=False, description='Nhận biết cảm xúc của bản thân và điều chỉnh phản ứng cho phù hợp')"
      ]
     },
     "metadata": {},
     "output_type": "display_data"
    },
    {
     "data": {
      "application/vnd.jupyter.widget-view+json": {
       "model_id": "718895222cd248dbb65cd472307f5772",
       "version_major": 2,
       "version_minor": 0
      },
      "text/plain": [
       "Checkbox(value=False, description='Không để cảm xúc cá nhân ảnh hưởng đến lập luận')"
      ]
     },
     "metadata": {},
     "output_type": "display_data"
    },
    {
     "data": {
      "application/vnd.jupyter.widget-view+json": {
       "model_id": "fb2ef027e8384f66a21e8782274874c2",
       "version_major": 2,
       "version_minor": 0
      },
      "text/plain": [
       "Checkbox(value=False, description='Sử dụng ngôn ngữ tích cực tránh ngôn ngữ tiêu cực hay công kích')"
      ]
     },
     "metadata": {},
     "output_type": "display_data"
    },
    {
     "data": {
      "application/vnd.jupyter.widget-view+json": {
       "model_id": "5743928bc8ac408a8ff9d98c6a54f083",
       "version_major": 2,
       "version_minor": 0
      },
      "text/plain": [
       "Checkbox(value=False, description='Duy trì sự tôn trọng đối với người khác dù trong tranh cãi')"
      ]
     },
     "metadata": {},
     "output_type": "display_data"
    },
    {
     "data": {
      "application/vnd.jupyter.widget-view+json": {
       "model_id": "0456262444194248a0f4f5093ea6203c",
       "version_major": 2,
       "version_minor": 0
      },
      "text/plain": [
       "Checkbox(value=False, description='Lập kế hoạch và ưu tiên các phần của cuộc tranh luận')"
      ]
     },
     "metadata": {},
     "output_type": "display_data"
    },
    {
     "data": {
      "application/vnd.jupyter.widget-view+json": {
       "model_id": "0579994f13464926894cc534ebb8fe85",
       "version_major": 2,
       "version_minor": 0
      },
      "text/plain": [
       "Checkbox(value=False, description='Đảm bảo mỗi phần của luận điểm được trình bày đầy đủ trong thời gian có hạn…"
      ]
     },
     "metadata": {},
     "output_type": "display_data"
    },
    {
     "data": {
      "application/vnd.jupyter.widget-view+json": {
       "model_id": "57118dc1453d4c9facd8a100348d4ddd",
       "version_major": 2,
       "version_minor": 0
      },
      "text/plain": [
       "Checkbox(value=False, description='Tránh lan man tập trung vào mục tiêu đã xác định')"
      ]
     },
     "metadata": {},
     "output_type": "display_data"
    },
    {
     "data": {
      "application/vnd.jupyter.widget-view+json": {
       "model_id": "61acb128e7714ddda5cd2932b781d853",
       "version_major": 2,
       "version_minor": 0
      },
      "text/plain": [
       "Checkbox(value=False, description='Sử dụng thời gian hiệu quả để tạo ra sức mạnh cho luận điểm')"
      ]
     },
     "metadata": {},
     "output_type": "display_data"
    },
    {
     "data": {
      "application/vnd.jupyter.widget-view+json": {
       "model_id": "f99a334faf254c2fb30acb6e9844ef2a",
       "version_major": 2,
       "version_minor": 0
      },
      "text/plain": [
       "Checkbox(value=False, description='Phân bổ thời gian cho việc nghe và phản hồi')"
      ]
     },
     "metadata": {},
     "output_type": "display_data"
    },
    {
     "data": {
      "application/vnd.jupyter.widget-view+json": {
       "model_id": "a0ebb2c5d40449c49f14e4cd89f2b82b",
       "version_major": 2,
       "version_minor": 0
      },
      "text/plain": [
       "Checkbox(value=False, description='Không lập kế hoạch hoặc ưu tiên các phần của cuộc tranh luận dẫn đến sự rối…"
      ]
     },
     "metadata": {},
     "output_type": "display_data"
    },
    {
     "data": {
      "application/vnd.jupyter.widget-view+json": {
       "model_id": "e6de063bc258423ba7a1d4bfaf9bb257",
       "version_major": 2,
       "version_minor": 0
      },
      "text/plain": [
       "Checkbox(value=False, description='Xác định thông tin quan trọng và liên quan từ trong một lượng lớn dữ liệu')"
      ]
     },
     "metadata": {},
     "output_type": "display_data"
    },
    {
     "data": {
      "application/vnd.jupyter.widget-view+json": {
       "model_id": "8b1984062a55481ca640aceab67767d3",
       "version_major": 2,
       "version_minor": 0
      },
      "text/plain": [
       "Checkbox(value=False, description='Phân biệt giữa ý kiến và thực tế')"
      ]
     },
     "metadata": {},
     "output_type": "display_data"
    },
    {
     "data": {
      "application/vnd.jupyter.widget-view+json": {
       "model_id": "20251938dea04c0db5343aad1edf3968",
       "version_major": 2,
       "version_minor": 0
      },
      "text/plain": [
       "Checkbox(value=False, description='Nhận diện mối liên hệ giữa các thông tin và ý tưởng')"
      ]
     },
     "metadata": {},
     "output_type": "display_data"
    },
    {
     "data": {
      "application/vnd.jupyter.widget-view+json": {
       "model_id": "8eeec82218374027b09fe24103cdba22",
       "version_major": 2,
       "version_minor": 0
      },
      "text/plain": [
       "Checkbox(value=False, description='Đánh giá sức mạnh và điểm yếu của một luận điểm')"
      ]
     },
     "metadata": {},
     "output_type": "display_data"
    },
    {
     "data": {
      "application/vnd.jupyter.widget-view+json": {
       "model_id": "b7c4b0f17497404ba9d91972aa513fce",
       "version_major": 2,
       "version_minor": 0
      },
      "text/plain": [
       "Checkbox(value=False, description='Sử dụng phân tích để phát triển luận điểm mạnh mẽ')"
      ]
     },
     "metadata": {},
     "output_type": "display_data"
    },
    {
     "data": {
      "application/vnd.jupyter.widget-view+json": {
       "model_id": "6ff8c3ca5680401eb13a5278992c4592",
       "version_major": 2,
       "version_minor": 0
      },
      "text/plain": [
       "Checkbox(value=False, description='Đưa ra kết luận dựa trên bằng chứng và phân tích')"
      ]
     },
     "metadata": {},
     "output_type": "display_data"
    },
    {
     "data": {
      "application/vnd.jupyter.widget-view+json": {
       "model_id": "2a378d4a1b504a41842a73ea1b049b2e",
       "version_major": 2,
       "version_minor": 0
      },
      "text/plain": [
       "Checkbox(value=False, description='Áp dụng logic để từng bước tiến tới kết luận')"
      ]
     },
     "metadata": {},
     "output_type": "display_data"
    },
    {
     "data": {
      "application/vnd.jupyter.widget-view+json": {
       "model_id": "1a3009f838ba46b79357ebc96f760716",
       "version_major": 2,
       "version_minor": 0
      },
      "text/plain": [
       "Checkbox(value=False, description='Sử dụng suy luận để nối kết thông tin và bằng chứng')"
      ]
     },
     "metadata": {},
     "output_type": "display_data"
    },
    {
     "data": {
      "application/vnd.jupyter.widget-view+json": {
       "model_id": "4f1edc234f4a4a24b43fd8276e198777",
       "version_major": 2,
       "version_minor": 0
      },
      "text/plain": [
       "Checkbox(value=False, description='Phát triển giả định dựa trên thông tin có sẵn')"
      ]
     },
     "metadata": {},
     "output_type": "display_data"
    },
    {
     "data": {
      "application/vnd.jupyter.widget-view+json": {
       "model_id": "1c2b5ca6b260401eb89166c4df5fee76",
       "version_major": 2,
       "version_minor": 0
      },
      "text/plain": [
       "Checkbox(value=False, description='Kiểm tra tính hợp lý của kết luận')"
      ]
     },
     "metadata": {},
     "output_type": "display_data"
    },
    {
     "data": {
      "application/vnd.jupyter.widget-view+json": {
       "model_id": "38fe57ee4efc4c03996988e7f9a46285",
       "version_major": 2,
       "version_minor": 0
      },
      "text/plain": [
       "Checkbox(value=False, description='Phân biệt giữa suy luận hợp lệ và không hợp lệ')"
      ]
     },
     "metadata": {},
     "output_type": "display_data"
    },
    {
     "data": {
      "application/vnd.jupyter.widget-view+json": {
       "model_id": "d4439d8972324a8680197f601830e0ff",
       "version_major": 2,
       "version_minor": 0
      },
      "text/plain": [
       "Checkbox(value=False, description='Sử dụng suy luận để chứng minh hoặc bác bỏ một luận điểm')"
      ]
     },
     "metadata": {},
     "output_type": "display_data"
    },
    {
     "data": {
      "application/vnd.jupyter.widget-view+json": {
       "model_id": "d6b72cab52fc40b99358d653fea3856f",
       "version_major": 2,
       "version_minor": 0
      },
      "text/plain": [
       "Checkbox(value=False, description='Đánh giá một cách khách quan tính chính xác và độ tin cậy của nguồn thông t…"
      ]
     },
     "metadata": {},
     "output_type": "display_data"
    },
    {
     "data": {
      "application/vnd.jupyter.widget-view+json": {
       "model_id": "4ee57fece5704c4cb53c38f692c36f0f",
       "version_major": 2,
       "version_minor": 0
      },
      "text/plain": [
       "Checkbox(value=False, description='Cân nhắc các quan điểm và luận điểm từ nhiều góc độ khác nhau')"
      ]
     },
     "metadata": {},
     "output_type": "display_data"
    },
    {
     "data": {
      "application/vnd.jupyter.widget-view+json": {
       "model_id": "699bb01a9a5d4dde8cb2d303bd9f8a6f",
       "version_major": 2,
       "version_minor": 0
      },
      "text/plain": [
       "Checkbox(value=False, description='Phân biệt được giữa bằng chứng mạnh và yếu')"
      ]
     },
     "metadata": {},
     "output_type": "display_data"
    },
    {
     "data": {
      "application/vnd.jupyter.widget-view+json": {
       "model_id": "49a149174f454a299c7dfc2e5e68f469",
       "version_major": 2,
       "version_minor": 0
      },
      "text/plain": [
       "Checkbox(value=False, description='Nhận diện được các lỗi logic và thiếu sót trong lập luận')"
      ]
     },
     "metadata": {},
     "output_type": "display_data"
    },
    {
     "data": {
      "application/vnd.jupyter.widget-view+json": {
       "model_id": "d3fb43b2517445d4bf4681242f64125c",
       "version_major": 2,
       "version_minor": 0
      },
      "text/plain": [
       "Checkbox(value=False, description='Sử dụng tiêu chí rõ ràng và công bằng để đánh giá luận điểm')"
      ]
     },
     "metadata": {},
     "output_type": "display_data"
    },
    {
     "data": {
      "application/vnd.jupyter.widget-view+json": {
       "model_id": "3bfea1e9860a4b34975d9ffe2ad939ad",
       "version_major": 2,
       "version_minor": 0
      },
      "text/plain": [
       "Checkbox(value=False, description='Đưa ra phản hồi và gợi ý cải thiện dựa trên đánh giá')"
      ]
     },
     "metadata": {},
     "output_type": "display_data"
    },
    {
     "data": {
      "application/vnd.jupyter.widget-view+json": {
       "model_id": "468eb4e2c1bc44348e2275a3a86092cc",
       "version_major": 2,
       "version_minor": 0
      },
      "text/plain": [
       "Checkbox(value=False, description='Kết hợp thông tin từ nhiều nguồn để tạo ra một cái nhìn tổng thể')"
      ]
     },
     "metadata": {},
     "output_type": "display_data"
    },
    {
     "data": {
      "application/vnd.jupyter.widget-view+json": {
       "model_id": "8911433d053a4703b1240ba5879a893c",
       "version_major": 2,
       "version_minor": 0
      },
      "text/plain": [
       "Checkbox(value=False, description='Xem xét mối quan hệ giữa các ý tưởng và thông tin để xây dựng luận điểm mới…"
      ]
     },
     "metadata": {},
     "output_type": "display_data"
    },
    {
     "data": {
      "application/vnd.jupyter.widget-view+json": {
       "model_id": "f35f7432866d483391a2d52ccad8abd0",
       "version_major": 2,
       "version_minor": 0
      },
      "text/plain": [
       "Checkbox(value=False, description='Tạo liên kết giữa các quan điểm và lập luận có vẻ mâu thuẫn nhau')"
      ]
     },
     "metadata": {},
     "output_type": "display_data"
    },
    {
     "data": {
      "application/vnd.jupyter.widget-view+json": {
       "model_id": "ca79121162a94a99b8db24ab7d004300",
       "version_major": 2,
       "version_minor": 0
      },
      "text/plain": [
       "Checkbox(value=False, description='Sử dụng tư duy sáng tạo để phát triển giải pháp hoặc ý tưởng mới')"
      ]
     },
     "metadata": {},
     "output_type": "display_data"
    },
    {
     "data": {
      "application/vnd.jupyter.widget-view+json": {
       "model_id": "75628f6ed3b146ddb9b5ef9995a647a9",
       "version_major": 2,
       "version_minor": 0
      },
      "text/plain": [
       "Checkbox(value=False, description='Tổng hợp kết luận dựa trên đánh giá và phân tích')"
      ]
     },
     "metadata": {},
     "output_type": "display_data"
    },
    {
     "data": {
      "application/vnd.jupyter.widget-view+json": {
       "model_id": "ba805e78bc4c4dbfa4afb8c96b27f5e3",
       "version_major": 2,
       "version_minor": 0
      },
      "text/plain": [
       "Checkbox(value=False, description='Trình bày thông tin một cách rõ ràng và mạch lạc thể hiện sự hiểu biết tổng…"
      ]
     },
     "metadata": {},
     "output_type": "display_data"
    },
    {
     "data": {
      "application/vnd.jupyter.widget-view+json": {
       "model_id": "bcceab598d5c4533b2eda99dfb89c51e",
       "version_major": 2,
       "version_minor": 0
      },
      "text/plain": [
       "Button(description='Dự đoán kỹ năng', style=ButtonStyle())"
      ]
     },
     "metadata": {},
     "output_type": "display_data"
    },
    {
     "name": "stdout",
     "output_type": "stream",
     "text": [
      "\u001b[1m26/26\u001b[0m \u001b[32m━━━━━━━━━━━━━━━━━━━━\u001b[0m\u001b[37m\u001b[0m \u001b[1m0s\u001b[0m 763us/step\n",
      "Kỹ năng dự đoán cao nhất: Kỹ năng tranh luận Lập luận Logic với 29.08% tỷ lệ chắc chắn.\n"
     ]
    }
   ],
   "source": [
    "from ipywidgets import widgets\n",
    "from IPython.display import display\n",
    "import numpy as np\n",
    "\n",
    "# Tạo checkbox cho mỗi biểu hiện từ tập dữ liệu\n",
    "checkboxes = [widgets.Checkbox(description=column) for column in X.columns]\n",
    "\n",
    "# Hiển thị các checkbox\n",
    "for checkbox in checkboxes:\n",
    "    display(checkbox)\n",
    "\n",
    "# Tạo button để thực hiện dự đoán\n",
    "button = widgets.Button(description=\"Dự đoán kỹ năng\")\n",
    "display(button)\n",
    "\n",
    "def predict_skills(button):\n",
    "    selected_features = [checkbox.description for checkbox in checkboxes if checkbox.value]\n",
    "    \n",
    "    if not selected_features:\n",
    "        print(\"Vui lòng chọn ít nhất một biểu hiện.\")\n",
    "        return\n",
    "    \n",
    "    # Chuẩn bị dữ liệu dự đoán\n",
    "    input_data = X.loc[:, selected_features].astype(float)\n",
    "    missing_columns = set(X_train.columns) - set(input_data.columns)\n",
    "    for column in missing_columns:\n",
    "        input_data[column] = 0\n",
    "    input_data = input_data[X_train.columns]  # Đảm bảo cùng thứ tự cột\n",
    "    \n",
    "    # Dự đoán và tìm kỹ năng có tỷ lệ % cao nhất\n",
    "    predictions = model.predict(input_data)\n",
    "    predicted_classes = np.argmax(predictions, axis=1)\n",
    "    probabilities = np.max(predictions, axis=1) * 100  # Tính tỷ lệ %\n",
    "    \n",
    "    # Hiển thị kết quả dự đoán với tỷ lệ % cao nhất\n",
    "    highest_probability_index = np.argmax(probabilities)\n",
    "    highest_probability = probabilities[highest_probability_index]\n",
    "    highest_skill = label_encoder.classes_[predicted_classes[highest_probability_index]]\n",
    "    \n",
    "    print(f\"Kỹ năng dự đoán cao nhất: {highest_skill} với {highest_probability:.2f}% tỷ lệ chắc chắn.\")\n",
    "    \n",
    "# Gán sự kiện click cho button\n",
    "button.on_click(predict_skills)\n"
   ]
  },
  {
   "cell_type": "code",
   "execution_count": null,
   "id": "65e3c3b0",
   "metadata": {},
   "outputs": [],
   "source": []
  }
 ],
 "metadata": {
  "kernelspec": {
   "display_name": "Python 3 (ipykernel)",
   "language": "python",
   "name": "python3"
  },
  "language_info": {
   "codemirror_mode": {
    "name": "ipython",
    "version": 3
   },
   "file_extension": ".py",
   "mimetype": "text/x-python",
   "name": "python",
   "nbconvert_exporter": "python",
   "pygments_lexer": "ipython3",
   "version": "3.11.5"
  }
 },
 "nbformat": 4,
 "nbformat_minor": 5
}
