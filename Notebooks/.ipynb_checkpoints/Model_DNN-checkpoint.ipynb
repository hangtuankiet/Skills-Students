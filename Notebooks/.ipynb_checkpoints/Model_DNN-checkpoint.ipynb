{
 "cells": [
  {
   "cell_type": "markdown",
   "id": "439eadd9",
   "metadata": {},
   "source": [
    "# import thư viện "
   ]
  },
  {
   "cell_type": "code",
   "execution_count": 3,
   "id": "3f78fc63",
   "metadata": {},
   "outputs": [],
   "source": [
    "\n",
    "import pandas as pd  # Đọc và xử lý dữ liệu.\n",
    "import numpy as np  # Thao tác dữ liệu số và mảng.\n",
    "from sklearn.preprocessing import LabelEncoder  # Mã hóa nhãn từ văn bản sang số.\n",
    "from sklearn.model_selection import train_test_split  # Chia dữ liệu thành tập huấn luyện và kiểm tra.\n",
    "from tensorflow.keras.models import Sequential  # Mô hình tuần tự.\n",
    "from tensorflow.keras.layers import Dense, Dropout, BatchNormalization  # Các lớp mô hình.\n",
    "from tensorflow.keras.regularizers import l2  # Điều chuẩn trọng số để giảm overfitting.\n",
    "from tensorflow.keras.optimizers import Adam  # Tối ưu hóa mô hình.\n",
    "from tensorflow.keras.callbacks import EarlyStopping  # Dừng sớm để tránh overfitting.\n",
    "from tensorflow.keras.utils import to_categorical  # Chuyển nhãn sang one-hot encoding.\n",
    "import matplotlib.pyplot as plt  # Vẽ đồ thị để trực quan hóa.\n",
    "from ipywidgets import widgets  # Tạo giao diện tương tác trong notebook.\n",
    "from IPython.display import display  # Hiển thị widgets.\n"
   ]
  },
  {
   "cell_type": "markdown",
   "id": "b28269ae",
   "metadata": {},
   "source": [
    "# Bước 1: Đọc file"
   ]
  },
  {
   "cell_type": "code",
   "execution_count": 4,
   "id": "ce22ad87",
   "metadata": {},
   "outputs": [
    {
     "name": "stdout",
     "output_type": "stream",
     "text": [
      "Số lượng hàng và cột:\n",
      "(819, 79)\n"
     ]
    },
    {
     "data": {
      "text/html": [
       "<div>\n",
       "<style scoped>\n",
       "    .dataframe tbody tr th:only-of-type {\n",
       "        vertical-align: middle;\n",
       "    }\n",
       "\n",
       "    .dataframe tbody tr th {\n",
       "        vertical-align: top;\n",
       "    }\n",
       "\n",
       "    .dataframe thead th {\n",
       "        text-align: right;\n",
       "    }\n",
       "</style>\n",
       "<table border=\"1\" class=\"dataframe\">\n",
       "  <thead>\n",
       "    <tr style=\"text-align: right;\">\n",
       "      <th></th>\n",
       "      <th>Kỹ năng</th>\n",
       "      <th>Trình bày luận điểm một cách có hệ thống rõ ràng</th>\n",
       "      <th>Sử dụng dẫn chứng thống kê đáng tin cậy</th>\n",
       "      <th>Chủ động đưa ra các ví dụ trường hợp cụ thể để minh họa cho luận điểm</th>\n",
       "      <th>Có khả năng tóm tắt vấn đề một cách rõ ràng ngắn gọn</th>\n",
       "      <th>Sử dụng ngôn ngữ rõ ràng logic và lập luận chặt chẽ</th>\n",
       "      <th>Có khả năng điều chỉnh quan điểm dựa trên lập luận và bằng chứng mới</th>\n",
       "      <th>Trình bày các bằng chứng dẫn chứng thuyết phục</th>\n",
       "      <th>Sử dụng ngữ điệu nhấn nhá hợp lý khi nói để thu hút người nghe</th>\n",
       "      <th>Biết lắng nghe và tôn trọng quan điểm của đối phương</th>\n",
       "      <th>...</th>\n",
       "      <th>Phân biệt được giữa bằng chứng mạnh và yếu</th>\n",
       "      <th>Nhận diện được các lỗi logic và thiếu sót trong lập luận</th>\n",
       "      <th>Sử dụng tiêu chí rõ ràng và công bằng để đánh giá luận điểm</th>\n",
       "      <th>Đưa ra phản hồi và gợi ý cải thiện dựa trên đánh giá</th>\n",
       "      <th>Kết hợp thông tin từ nhiều nguồn để tạo ra một cái nhìn tổng thể</th>\n",
       "      <th>Xem xét mối quan hệ giữa các ý tưởng và thông tin để xây dựng luận điểm mới</th>\n",
       "      <th>Tạo liên kết giữa các quan điểm và lập luận có vẻ mâu thuẫn nhau</th>\n",
       "      <th>Sử dụng tư duy sáng tạo để phát triển giải pháp hoặc ý tưởng mới</th>\n",
       "      <th>Tổng hợp kết luận dựa trên đánh giá và phân tích</th>\n",
       "      <th>Trình bày thông tin một cách rõ ràng và mạch lạc thể hiện sự hiểu biết tổng thể</th>\n",
       "    </tr>\n",
       "  </thead>\n",
       "  <tbody>\n",
       "    <tr>\n",
       "      <th>0</th>\n",
       "      <td>Kỹ năng tranh luận Lập luận Logic</td>\n",
       "      <td>0</td>\n",
       "      <td>1</td>\n",
       "      <td>1</td>\n",
       "      <td>1</td>\n",
       "      <td>1</td>\n",
       "      <td>1</td>\n",
       "      <td>0</td>\n",
       "      <td>0</td>\n",
       "      <td>0</td>\n",
       "      <td>...</td>\n",
       "      <td>0</td>\n",
       "      <td>0</td>\n",
       "      <td>0</td>\n",
       "      <td>0</td>\n",
       "      <td>0</td>\n",
       "      <td>0</td>\n",
       "      <td>0</td>\n",
       "      <td>0</td>\n",
       "      <td>0</td>\n",
       "      <td>0</td>\n",
       "    </tr>\n",
       "    <tr>\n",
       "      <th>1</th>\n",
       "      <td>Kỹ năng tranh luận Thuyết Phục</td>\n",
       "      <td>0</td>\n",
       "      <td>0</td>\n",
       "      <td>0</td>\n",
       "      <td>0</td>\n",
       "      <td>0</td>\n",
       "      <td>0</td>\n",
       "      <td>1</td>\n",
       "      <td>1</td>\n",
       "      <td>1</td>\n",
       "      <td>...</td>\n",
       "      <td>0</td>\n",
       "      <td>0</td>\n",
       "      <td>0</td>\n",
       "      <td>0</td>\n",
       "      <td>0</td>\n",
       "      <td>0</td>\n",
       "      <td>0</td>\n",
       "      <td>0</td>\n",
       "      <td>0</td>\n",
       "      <td>0</td>\n",
       "    </tr>\n",
       "    <tr>\n",
       "      <th>2</th>\n",
       "      <td>Kỹ năng tranh luận Phản Biện</td>\n",
       "      <td>0</td>\n",
       "      <td>0</td>\n",
       "      <td>0</td>\n",
       "      <td>0</td>\n",
       "      <td>0</td>\n",
       "      <td>0</td>\n",
       "      <td>0</td>\n",
       "      <td>0</td>\n",
       "      <td>0</td>\n",
       "      <td>...</td>\n",
       "      <td>0</td>\n",
       "      <td>0</td>\n",
       "      <td>0</td>\n",
       "      <td>0</td>\n",
       "      <td>0</td>\n",
       "      <td>0</td>\n",
       "      <td>0</td>\n",
       "      <td>0</td>\n",
       "      <td>0</td>\n",
       "      <td>0</td>\n",
       "    </tr>\n",
       "    <tr>\n",
       "      <th>3</th>\n",
       "      <td>Kỹ năng kiểm soát cảm xúc</td>\n",
       "      <td>0</td>\n",
       "      <td>0</td>\n",
       "      <td>0</td>\n",
       "      <td>0</td>\n",
       "      <td>0</td>\n",
       "      <td>0</td>\n",
       "      <td>0</td>\n",
       "      <td>0</td>\n",
       "      <td>0</td>\n",
       "      <td>...</td>\n",
       "      <td>0</td>\n",
       "      <td>0</td>\n",
       "      <td>0</td>\n",
       "      <td>0</td>\n",
       "      <td>0</td>\n",
       "      <td>0</td>\n",
       "      <td>0</td>\n",
       "      <td>0</td>\n",
       "      <td>0</td>\n",
       "      <td>0</td>\n",
       "    </tr>\n",
       "    <tr>\n",
       "      <th>4</th>\n",
       "      <td>Kỹ năng Quản Lý Thời Gian</td>\n",
       "      <td>0</td>\n",
       "      <td>0</td>\n",
       "      <td>0</td>\n",
       "      <td>0</td>\n",
       "      <td>0</td>\n",
       "      <td>0</td>\n",
       "      <td>0</td>\n",
       "      <td>0</td>\n",
       "      <td>0</td>\n",
       "      <td>...</td>\n",
       "      <td>0</td>\n",
       "      <td>0</td>\n",
       "      <td>0</td>\n",
       "      <td>0</td>\n",
       "      <td>0</td>\n",
       "      <td>0</td>\n",
       "      <td>0</td>\n",
       "      <td>0</td>\n",
       "      <td>0</td>\n",
       "      <td>0</td>\n",
       "    </tr>\n",
       "  </tbody>\n",
       "</table>\n",
       "<p>5 rows × 79 columns</p>\n",
       "</div>"
      ],
      "text/plain": [
       "                             Kỹ năng  \\\n",
       "0  Kỹ năng tranh luận Lập luận Logic   \n",
       "1     Kỹ năng tranh luận Thuyết Phục   \n",
       "2       Kỹ năng tranh luận Phản Biện   \n",
       "3          Kỹ năng kiểm soát cảm xúc   \n",
       "4          Kỹ năng Quản Lý Thời Gian   \n",
       "\n",
       "   Trình bày luận điểm một cách có hệ thống rõ ràng  \\\n",
       "0                                                 0   \n",
       "1                                                 0   \n",
       "2                                                 0   \n",
       "3                                                 0   \n",
       "4                                                 0   \n",
       "\n",
       "   Sử dụng dẫn chứng thống kê đáng tin cậy  \\\n",
       "0                                        1   \n",
       "1                                        0   \n",
       "2                                        0   \n",
       "3                                        0   \n",
       "4                                        0   \n",
       "\n",
       "   Chủ động đưa ra các ví dụ trường hợp cụ thể để minh họa cho luận điểm  \\\n",
       "0                                                  1                       \n",
       "1                                                  0                       \n",
       "2                                                  0                       \n",
       "3                                                  0                       \n",
       "4                                                  0                       \n",
       "\n",
       "   Có khả năng tóm tắt vấn đề một cách rõ ràng ngắn gọn  \\\n",
       "0                                                  1      \n",
       "1                                                  0      \n",
       "2                                                  0      \n",
       "3                                                  0      \n",
       "4                                                  0      \n",
       "\n",
       "   Sử dụng ngôn ngữ rõ ràng logic và lập luận chặt chẽ  \\\n",
       "0                                                  1     \n",
       "1                                                  0     \n",
       "2                                                  0     \n",
       "3                                                  0     \n",
       "4                                                  0     \n",
       "\n",
       "   Có khả năng điều chỉnh quan điểm dựa trên lập luận và bằng chứng mới  \\\n",
       "0                                                  1                      \n",
       "1                                                  0                      \n",
       "2                                                  0                      \n",
       "3                                                  0                      \n",
       "4                                                  0                      \n",
       "\n",
       "   Trình bày các bằng chứng dẫn chứng thuyết phục  \\\n",
       "0                                               0   \n",
       "1                                               1   \n",
       "2                                               0   \n",
       "3                                               0   \n",
       "4                                               0   \n",
       "\n",
       "   Sử dụng ngữ điệu nhấn nhá hợp lý khi nói để thu hút người nghe  \\\n",
       "0                                                  0                \n",
       "1                                                  1                \n",
       "2                                                  0                \n",
       "3                                                  0                \n",
       "4                                                  0                \n",
       "\n",
       "   Biết lắng nghe và tôn trọng quan điểm của đối phương  ...  \\\n",
       "0                                                  0     ...   \n",
       "1                                                  1     ...   \n",
       "2                                                  0     ...   \n",
       "3                                                  0     ...   \n",
       "4                                                  0     ...   \n",
       "\n",
       "   Phân biệt được giữa bằng chứng mạnh và yếu  \\\n",
       "0                                           0   \n",
       "1                                           0   \n",
       "2                                           0   \n",
       "3                                           0   \n",
       "4                                           0   \n",
       "\n",
       "   Nhận diện được các lỗi logic và thiếu sót trong lập luận  \\\n",
       "0                                                  0          \n",
       "1                                                  0          \n",
       "2                                                  0          \n",
       "3                                                  0          \n",
       "4                                                  0          \n",
       "\n",
       "   Sử dụng tiêu chí rõ ràng và công bằng để đánh giá luận điểm  \\\n",
       "0                                                  0             \n",
       "1                                                  0             \n",
       "2                                                  0             \n",
       "3                                                  0             \n",
       "4                                                  0             \n",
       "\n",
       "   Đưa ra phản hồi và gợi ý cải thiện dựa trên đánh giá  \\\n",
       "0                                                  0      \n",
       "1                                                  0      \n",
       "2                                                  0      \n",
       "3                                                  0      \n",
       "4                                                  0      \n",
       "\n",
       "   Kết hợp thông tin từ nhiều nguồn để tạo ra một cái nhìn tổng thể  \\\n",
       "0                                                  0                  \n",
       "1                                                  0                  \n",
       "2                                                  0                  \n",
       "3                                                  0                  \n",
       "4                                                  0                  \n",
       "\n",
       "   Xem xét mối quan hệ giữa các ý tưởng và thông tin để xây dựng luận điểm mới  \\\n",
       "0                                                  0                             \n",
       "1                                                  0                             \n",
       "2                                                  0                             \n",
       "3                                                  0                             \n",
       "4                                                  0                             \n",
       "\n",
       "   Tạo liên kết giữa các quan điểm và lập luận có vẻ mâu thuẫn nhau  \\\n",
       "0                                                  0                  \n",
       "1                                                  0                  \n",
       "2                                                  0                  \n",
       "3                                                  0                  \n",
       "4                                                  0                  \n",
       "\n",
       "   Sử dụng tư duy sáng tạo để phát triển giải pháp hoặc ý tưởng mới  \\\n",
       "0                                                  0                  \n",
       "1                                                  0                  \n",
       "2                                                  0                  \n",
       "3                                                  0                  \n",
       "4                                                  0                  \n",
       "\n",
       "   Tổng hợp kết luận dựa trên đánh giá và phân tích  \\\n",
       "0                                                 0   \n",
       "1                                                 0   \n",
       "2                                                 0   \n",
       "3                                                 0   \n",
       "4                                                 0   \n",
       "\n",
       "   Trình bày thông tin một cách rõ ràng và mạch lạc thể hiện sự hiểu biết tổng thể  \n",
       "0                                                  0                                \n",
       "1                                                  0                                \n",
       "2                                                  0                                \n",
       "3                                                  0                                \n",
       "4                                                  0                                \n",
       "\n",
       "[5 rows x 79 columns]"
      ]
     },
     "execution_count": 4,
     "metadata": {},
     "output_type": "execute_result"
    }
   ],
   "source": [
    "\n",
    "data = pd.read_csv('../Data/raw/combination_data.csv')\n",
    "print(\"Số lượng hàng và cột:\")\n",
    "print(data.shape)\n",
    "data.head()\n"
   ]
  },
  {
   "cell_type": "markdown",
   "id": "35d6a34f",
   "metadata": {},
   "source": [
    "# Bước 2: Tiền xử lý dữ liệu"
   ]
  },
  {
   "cell_type": "code",
   "execution_count": 6,
   "id": "b3b9b986",
   "metadata": {},
   "outputs": [],
   "source": [
    "\n",
    "label_encoder = LabelEncoder()\n",
    "\n",
    "\n",
    "# Cột \"Kỹ năng\" là nhãn (target) cần dự đoán\n",
    "X = data.drop('Kỹ năng', axis=1)  # Dữ liệu đầu vào (features)\n",
    "y = label_encoder.fit_transform(data['Kỹ năng'])  # Dữ liệu đầu ra (target), đã được số hóa\n",
    "\n",
    "# Chia dữ liệu thành tập huấn luyện và tập kiểm tra với tỉ lệ là 80% huấn luyện và 20% kiểm tra\n",
    "X_train, X_test, y_train, y_test = train_test_split(X, y, test_size=0.2, random_state=0)\n",
    "\n",
    "# Xác định số lượng nhãn duy nhất\n",
    "num_unique_labels = np.unique(y).shape[0]\n",
    "\n",
    "# Chuyển đổi nhãn sang one-hot encoding\n",
    "y_train_one_hot = to_categorical(y_train, num_classes=num_unique_labels)\n",
    "y_test_one_hot = to_categorical(y_test, num_classes=num_unique_labels)\n",
    "\n",
    "\n"
   ]
  },
  {
   "cell_type": "markdown",
   "id": "2b7942fa",
   "metadata": {},
   "source": [
    "# Bước 3: Xây dựng và huấn luyện mô hình"
   ]
  },
  {
   "cell_type": "code",
   "execution_count": 7,
   "id": "2dd74777",
   "metadata": {},
   "outputs": [
    {
     "name": "stdout",
     "output_type": "stream",
     "text": [
      "Epoch 1/52\n"
     ]
    },
    {
     "name": "stderr",
     "output_type": "stream",
     "text": [
      "C:\\Users\\Acer\\anaconda3\\Lib\\site-packages\\keras\\src\\layers\\core\\dense.py:88: UserWarning: Do not pass an `input_shape`/`input_dim` argument to a layer. When using Sequential models, prefer using an `Input(shape)` object as the first layer in the model instead.\n",
      "  super().__init__(activity_regularizer=activity_regularizer, **kwargs)\n"
     ]
    },
    {
     "name": "stdout",
     "output_type": "stream",
     "text": [
      "\u001b[1m5/5\u001b[0m \u001b[32m━━━━━━━━━━━━━━━━━━━━\u001b[0m\u001b[37m\u001b[0m \u001b[1m1s\u001b[0m 45ms/step - accuracy: 0.0809 - loss: 4.5640 - val_accuracy: 0.0076 - val_loss: 3.8471\n",
      "Epoch 2/52\n",
      "\u001b[1m5/5\u001b[0m \u001b[32m━━━━━━━━━━━━━━━━━━━━\u001b[0m\u001b[37m\u001b[0m \u001b[1m0s\u001b[0m 10ms/step - accuracy: 0.0977 - loss: 4.3743 - val_accuracy: 0.1450 - val_loss: 3.8093\n",
      "Epoch 3/52\n",
      "\u001b[1m5/5\u001b[0m \u001b[32m━━━━━━━━━━━━━━━━━━━━\u001b[0m\u001b[37m\u001b[0m \u001b[1m0s\u001b[0m 9ms/step - accuracy: 0.1225 - loss: 4.3712 - val_accuracy: 0.2443 - val_loss: 3.7719\n",
      "Epoch 4/52\n",
      "\u001b[1m5/5\u001b[0m \u001b[32m━━━━━━━━━━━━━━━━━━━━\u001b[0m\u001b[37m\u001b[0m \u001b[1m0s\u001b[0m 7ms/step - accuracy: 0.1467 - loss: 4.2040 - val_accuracy: 0.2595 - val_loss: 3.7362\n",
      "Epoch 5/52\n",
      "\u001b[1m5/5\u001b[0m \u001b[32m━━━━━━━━━━━━━━━━━━━━\u001b[0m\u001b[37m\u001b[0m \u001b[1m0s\u001b[0m 8ms/step - accuracy: 0.1635 - loss: 4.0046 - val_accuracy: 0.2672 - val_loss: 3.7018\n",
      "Epoch 6/52\n",
      "\u001b[1m5/5\u001b[0m \u001b[32m━━━━━━━━━━━━━━━━━━━━\u001b[0m\u001b[37m\u001b[0m \u001b[1m0s\u001b[0m 8ms/step - accuracy: 0.1381 - loss: 4.1830 - val_accuracy: 0.2824 - val_loss: 3.6689\n",
      "Epoch 7/52\n",
      "\u001b[1m5/5\u001b[0m \u001b[32m━━━━━━━━━━━━━━━━━━━━\u001b[0m\u001b[37m\u001b[0m \u001b[1m0s\u001b[0m 10ms/step - accuracy: 0.1800 - loss: 3.9702 - val_accuracy: 0.2901 - val_loss: 3.6378\n",
      "Epoch 8/52\n",
      "\u001b[1m5/5\u001b[0m \u001b[32m━━━━━━━━━━━━━━━━━━━━\u001b[0m\u001b[37m\u001b[0m \u001b[1m0s\u001b[0m 9ms/step - accuracy: 0.1748 - loss: 3.8929 - val_accuracy: 0.2901 - val_loss: 3.6089\n",
      "Epoch 9/52\n",
      "\u001b[1m5/5\u001b[0m \u001b[32m━━━━━━━━━━━━━━━━━━━━\u001b[0m\u001b[37m\u001b[0m \u001b[1m0s\u001b[0m 9ms/step - accuracy: 0.2032 - loss: 3.7571 - val_accuracy: 0.2901 - val_loss: 3.5799\n",
      "Epoch 10/52\n",
      "\u001b[1m5/5\u001b[0m \u001b[32m━━━━━━━━━━━━━━━━━━━━\u001b[0m\u001b[37m\u001b[0m \u001b[1m0s\u001b[0m 7ms/step - accuracy: 0.1841 - loss: 3.7487 - val_accuracy: 0.3740 - val_loss: 3.5507\n",
      "Epoch 11/52\n",
      "\u001b[1m5/5\u001b[0m \u001b[32m━━━━━━━━━━━━━━━━━━━━\u001b[0m\u001b[37m\u001b[0m \u001b[1m0s\u001b[0m 7ms/step - accuracy: 0.1957 - loss: 3.5711 - val_accuracy: 0.3740 - val_loss: 3.5221\n",
      "Epoch 12/52\n",
      "\u001b[1m5/5\u001b[0m \u001b[32m━━━━━━━━━━━━━━━━━━━━\u001b[0m\u001b[37m\u001b[0m \u001b[1m0s\u001b[0m 8ms/step - accuracy: 0.2201 - loss: 3.5090 - val_accuracy: 0.3740 - val_loss: 3.4953\n",
      "Epoch 13/52\n",
      "\u001b[1m5/5\u001b[0m \u001b[32m━━━━━━━━━━━━━━━━━━━━\u001b[0m\u001b[37m\u001b[0m \u001b[1m0s\u001b[0m 8ms/step - accuracy: 0.2211 - loss: 3.5337 - val_accuracy: 0.4885 - val_loss: 3.4667\n",
      "Epoch 14/52\n",
      "\u001b[1m5/5\u001b[0m \u001b[32m━━━━━━━━━━━━━━━━━━━━\u001b[0m\u001b[37m\u001b[0m \u001b[1m0s\u001b[0m 8ms/step - accuracy: 0.2674 - loss: 3.5490 - val_accuracy: 0.3969 - val_loss: 3.4408\n",
      "Epoch 15/52\n",
      "\u001b[1m5/5\u001b[0m \u001b[32m━━━━━━━━━━━━━━━━━━━━\u001b[0m\u001b[37m\u001b[0m \u001b[1m0s\u001b[0m 8ms/step - accuracy: 0.2409 - loss: 3.4349 - val_accuracy: 0.3969 - val_loss: 3.4156\n",
      "Epoch 16/52\n",
      "\u001b[1m5/5\u001b[0m \u001b[32m━━━━━━━━━━━━━━━━━━━━\u001b[0m\u001b[37m\u001b[0m \u001b[1m0s\u001b[0m 8ms/step - accuracy: 0.2395 - loss: 3.3793 - val_accuracy: 0.4580 - val_loss: 3.3902\n",
      "Epoch 17/52\n",
      "\u001b[1m5/5\u001b[0m \u001b[32m━━━━━━━━━━━━━━━━━━━━\u001b[0m\u001b[37m\u001b[0m \u001b[1m0s\u001b[0m 9ms/step - accuracy: 0.2749 - loss: 3.3684 - val_accuracy: 0.5496 - val_loss: 3.3648\n",
      "Epoch 18/52\n",
      "\u001b[1m5/5\u001b[0m \u001b[32m━━━━━━━━━━━━━━━━━━━━\u001b[0m\u001b[37m\u001b[0m \u001b[1m0s\u001b[0m 9ms/step - accuracy: 0.2537 - loss: 3.2633 - val_accuracy: 0.5496 - val_loss: 3.3397\n",
      "Epoch 19/52\n",
      "\u001b[1m5/5\u001b[0m \u001b[32m━━━━━━━━━━━━━━━━━━━━\u001b[0m\u001b[37m\u001b[0m \u001b[1m0s\u001b[0m 9ms/step - accuracy: 0.2648 - loss: 3.2131 - val_accuracy: 0.5496 - val_loss: 3.3148\n",
      "Epoch 20/52\n",
      "\u001b[1m5/5\u001b[0m \u001b[32m━━━━━━━━━━━━━━━━━━━━\u001b[0m\u001b[37m\u001b[0m \u001b[1m0s\u001b[0m 8ms/step - accuracy: 0.2799 - loss: 3.1730 - val_accuracy: 0.5878 - val_loss: 3.2899\n",
      "Epoch 21/52\n",
      "\u001b[1m5/5\u001b[0m \u001b[32m━━━━━━━━━━━━━━━━━━━━\u001b[0m\u001b[37m\u001b[0m \u001b[1m0s\u001b[0m 8ms/step - accuracy: 0.2745 - loss: 3.0577 - val_accuracy: 0.5878 - val_loss: 3.2662\n",
      "Epoch 22/52\n",
      "\u001b[1m5/5\u001b[0m \u001b[32m━━━━━━━━━━━━━━━━━━━━\u001b[0m\u001b[37m\u001b[0m \u001b[1m0s\u001b[0m 8ms/step - accuracy: 0.3098 - loss: 3.1604 - val_accuracy: 0.5878 - val_loss: 3.2422\n",
      "Epoch 23/52\n",
      "\u001b[1m5/5\u001b[0m \u001b[32m━━━━━━━━━━━━━━━━━━━━\u001b[0m\u001b[37m\u001b[0m \u001b[1m0s\u001b[0m 8ms/step - accuracy: 0.2853 - loss: 3.1506 - val_accuracy: 0.6947 - val_loss: 3.2170\n",
      "Epoch 24/52\n",
      "\u001b[1m5/5\u001b[0m \u001b[32m━━━━━━━━━━━━━━━━━━━━\u001b[0m\u001b[37m\u001b[0m \u001b[1m0s\u001b[0m 7ms/step - accuracy: 0.3178 - loss: 3.0212 - val_accuracy: 0.6947 - val_loss: 3.1926\n",
      "Epoch 25/52\n",
      "\u001b[1m5/5\u001b[0m \u001b[32m━━━━━━━━━━━━━━━━━━━━\u001b[0m\u001b[37m\u001b[0m \u001b[1m0s\u001b[0m 8ms/step - accuracy: 0.3361 - loss: 3.0597 - val_accuracy: 0.6947 - val_loss: 3.1697\n",
      "Epoch 26/52\n",
      "\u001b[1m5/5\u001b[0m \u001b[32m━━━━━━━━━━━━━━━━━━━━\u001b[0m\u001b[37m\u001b[0m \u001b[1m0s\u001b[0m 10ms/step - accuracy: 0.2907 - loss: 2.9670 - val_accuracy: 0.6947 - val_loss: 3.1460\n",
      "Epoch 27/52\n",
      "\u001b[1m5/5\u001b[0m \u001b[32m━━━━━━━━━━━━━━━━━━━━\u001b[0m\u001b[37m\u001b[0m \u001b[1m0s\u001b[0m 7ms/step - accuracy: 0.3067 - loss: 3.0268 - val_accuracy: 0.6947 - val_loss: 3.1215\n",
      "Epoch 28/52\n",
      "\u001b[1m5/5\u001b[0m \u001b[32m━━━━━━━━━━━━━━━━━━━━\u001b[0m\u001b[37m\u001b[0m \u001b[1m0s\u001b[0m 7ms/step - accuracy: 0.3645 - loss: 2.8964 - val_accuracy: 0.6947 - val_loss: 3.0981\n",
      "Epoch 29/52\n",
      "\u001b[1m5/5\u001b[0m \u001b[32m━━━━━━━━━━━━━━━━━━━━\u001b[0m\u001b[37m\u001b[0m \u001b[1m0s\u001b[0m 8ms/step - accuracy: 0.3349 - loss: 2.9491 - val_accuracy: 0.6947 - val_loss: 3.0756\n",
      "Epoch 30/52\n",
      "\u001b[1m5/5\u001b[0m \u001b[32m━━━━━━━━━━━━━━━━━━━━\u001b[0m\u001b[37m\u001b[0m \u001b[1m0s\u001b[0m 8ms/step - accuracy: 0.3571 - loss: 2.8730 - val_accuracy: 0.7786 - val_loss: 3.0525\n",
      "Epoch 31/52\n",
      "\u001b[1m5/5\u001b[0m \u001b[32m━━━━━━━━━━━━━━━━━━━━\u001b[0m\u001b[37m\u001b[0m \u001b[1m0s\u001b[0m 7ms/step - accuracy: 0.3170 - loss: 2.9089 - val_accuracy: 0.7786 - val_loss: 3.0296\n",
      "Epoch 32/52\n",
      "\u001b[1m5/5\u001b[0m \u001b[32m━━━━━━━━━━━━━━━━━━━━\u001b[0m\u001b[37m\u001b[0m \u001b[1m0s\u001b[0m 8ms/step - accuracy: 0.3449 - loss: 2.7950 - val_accuracy: 0.7786 - val_loss: 3.0056\n",
      "Epoch 33/52\n",
      "\u001b[1m5/5\u001b[0m \u001b[32m━━━━━━━━━━━━━━━━━━━━\u001b[0m\u001b[37m\u001b[0m \u001b[1m0s\u001b[0m 10ms/step - accuracy: 0.3703 - loss: 2.7476 - val_accuracy: 0.7786 - val_loss: 2.9821\n",
      "Epoch 34/52\n",
      "\u001b[1m5/5\u001b[0m \u001b[32m━━━━━━━━━━━━━━━━━━━━\u001b[0m\u001b[37m\u001b[0m \u001b[1m0s\u001b[0m 8ms/step - accuracy: 0.3678 - loss: 2.8014 - val_accuracy: 0.7710 - val_loss: 2.9587\n",
      "Epoch 35/52\n",
      "\u001b[1m5/5\u001b[0m \u001b[32m━━━━━━━━━━━━━━━━━━━━\u001b[0m\u001b[37m\u001b[0m \u001b[1m0s\u001b[0m 7ms/step - accuracy: 0.4254 - loss: 2.6870 - val_accuracy: 0.7710 - val_loss: 2.9349\n",
      "Epoch 36/52\n",
      "\u001b[1m5/5\u001b[0m \u001b[32m━━━━━━━━━━━━━━━━━━━━\u001b[0m\u001b[37m\u001b[0m \u001b[1m0s\u001b[0m 7ms/step - accuracy: 0.3656 - loss: 2.7513 - val_accuracy: 0.8015 - val_loss: 2.9110\n",
      "Epoch 37/52\n",
      "\u001b[1m5/5\u001b[0m \u001b[32m━━━━━━━━━━━━━━━━━━━━\u001b[0m\u001b[37m\u001b[0m \u001b[1m0s\u001b[0m 7ms/step - accuracy: 0.4042 - loss: 2.6962 - val_accuracy: 0.8015 - val_loss: 2.8878\n",
      "Epoch 38/52\n",
      "\u001b[1m5/5\u001b[0m \u001b[32m━━━━━━━━━━━━━━━━━━━━\u001b[0m\u001b[37m\u001b[0m \u001b[1m0s\u001b[0m 8ms/step - accuracy: 0.3791 - loss: 2.7434 - val_accuracy: 0.8015 - val_loss: 2.8624\n",
      "Epoch 39/52\n",
      "\u001b[1m5/5\u001b[0m \u001b[32m━━━━━━━━━━━━━━━━━━━━\u001b[0m\u001b[37m\u001b[0m \u001b[1m0s\u001b[0m 8ms/step - accuracy: 0.3943 - loss: 2.6351 - val_accuracy: 0.8015 - val_loss: 2.8363\n",
      "Epoch 40/52\n",
      "\u001b[1m5/5\u001b[0m \u001b[32m━━━━━━━━━━━━━━━━━━━━\u001b[0m\u001b[37m\u001b[0m \u001b[1m0s\u001b[0m 8ms/step - accuracy: 0.4278 - loss: 2.5739 - val_accuracy: 0.8015 - val_loss: 2.8130\n",
      "Epoch 41/52\n",
      "\u001b[1m5/5\u001b[0m \u001b[32m━━━━━━━━━━━━━━━━━━━━\u001b[0m\u001b[37m\u001b[0m \u001b[1m0s\u001b[0m 8ms/step - accuracy: 0.4149 - loss: 2.6039 - val_accuracy: 0.8015 - val_loss: 2.7893\n",
      "Epoch 42/52\n",
      "\u001b[1m5/5\u001b[0m \u001b[32m━━━━━━━━━━━━━━━━━━━━\u001b[0m\u001b[37m\u001b[0m \u001b[1m0s\u001b[0m 9ms/step - accuracy: 0.4606 - loss: 2.5576 - val_accuracy: 0.8015 - val_loss: 2.7664\n",
      "Epoch 43/52\n",
      "\u001b[1m5/5\u001b[0m \u001b[32m━━━━━━━━━━━━━━━━━━━━\u001b[0m\u001b[37m\u001b[0m \u001b[1m0s\u001b[0m 8ms/step - accuracy: 0.4194 - loss: 2.6238 - val_accuracy: 0.8855 - val_loss: 2.7432\n",
      "Epoch 44/52\n",
      "\u001b[1m5/5\u001b[0m \u001b[32m━━━━━━━━━━━━━━━━━━━━\u001b[0m\u001b[37m\u001b[0m \u001b[1m0s\u001b[0m 9ms/step - accuracy: 0.4051 - loss: 2.6213 - val_accuracy: 0.8855 - val_loss: 2.7200\n",
      "Epoch 45/52\n",
      "\u001b[1m5/5\u001b[0m \u001b[32m━━━━━━━━━━━━━━━━━━━━\u001b[0m\u001b[37m\u001b[0m \u001b[1m0s\u001b[0m 8ms/step - accuracy: 0.4083 - loss: 2.5587 - val_accuracy: 0.8855 - val_loss: 2.6972\n",
      "Epoch 46/52\n",
      "\u001b[1m5/5\u001b[0m \u001b[32m━━━━━━━━━━━━━━━━━━━━\u001b[0m\u001b[37m\u001b[0m \u001b[1m0s\u001b[0m 7ms/step - accuracy: 0.4524 - loss: 2.5164 - val_accuracy: 0.8855 - val_loss: 2.6740\n",
      "Epoch 47/52\n",
      "\u001b[1m5/5\u001b[0m \u001b[32m━━━━━━━━━━━━━━━━━━━━\u001b[0m\u001b[37m\u001b[0m \u001b[1m0s\u001b[0m 7ms/step - accuracy: 0.4443 - loss: 2.5392 - val_accuracy: 0.8855 - val_loss: 2.6516\n",
      "Epoch 48/52\n",
      "\u001b[1m5/5\u001b[0m \u001b[32m━━━━━━━━━━━━━━━━━━━━\u001b[0m\u001b[37m\u001b[0m \u001b[1m0s\u001b[0m 10ms/step - accuracy: 0.4632 - loss: 2.4580 - val_accuracy: 0.8855 - val_loss: 2.6294\n",
      "Epoch 49/52\n",
      "\u001b[1m5/5\u001b[0m \u001b[32m━━━━━━━━━━━━━━━━━━━━\u001b[0m\u001b[37m\u001b[0m \u001b[1m0s\u001b[0m 10ms/step - accuracy: 0.4521 - loss: 2.4292 - val_accuracy: 0.8855 - val_loss: 2.6070\n",
      "Epoch 50/52\n",
      "\u001b[1m5/5\u001b[0m \u001b[32m━━━━━━━━━━━━━━━━━━━━\u001b[0m\u001b[37m\u001b[0m \u001b[1m0s\u001b[0m 8ms/step - accuracy: 0.4600 - loss: 2.4478 - val_accuracy: 0.8855 - val_loss: 2.5837\n",
      "Epoch 51/52\n",
      "\u001b[1m5/5\u001b[0m \u001b[32m━━━━━━━━━━━━━━━━━━━━\u001b[0m\u001b[37m\u001b[0m \u001b[1m0s\u001b[0m 7ms/step - accuracy: 0.4531 - loss: 2.5214 - val_accuracy: 0.8779 - val_loss: 2.5606\n",
      "Epoch 52/52\n",
      "\u001b[1m5/5\u001b[0m \u001b[32m━━━━━━━━━━━━━━━━━━━━\u001b[0m\u001b[37m\u001b[0m \u001b[1m0s\u001b[0m 7ms/step - accuracy: 0.4853 - loss: 2.4247 - val_accuracy: 0.8779 - val_loss: 2.5405\n",
      "Restoring model weights from the end of the best epoch: 52.\n",
      "\u001b[1m6/6\u001b[0m \u001b[32m━━━━━━━━━━━━━━━━━━━━\u001b[0m\u001b[37m\u001b[0m \u001b[1m0s\u001b[0m 2ms/step - accuracy: 0.9271 - loss: 2.4208 \n",
      "Test loss: 2.437156915664673\n",
      "Test accuracy: 0.9207317233085632\n"
     ]
    }
   ],
   "source": [
    "# Xây dựng mô hình với cấu hình giảm kích thước, tăng L2 regularization và Dropout\n",
    "model = Sequential([\n",
    "    Dense(32, activation='relu', input_shape=(X_train.shape[1],), kernel_regularizer=l2(0.02)),  \n",
    "    BatchNormalization(),\n",
    "    Dropout(0.6),  \n",
    "    Dense(16, activation='relu', kernel_regularizer=l2(0.02)),  \n",
    "    BatchNormalization(),\n",
    "    Dropout(0.6),  \n",
    "    Dense(num_unique_labels, activation='softmax')\n",
    "])\n",
    "# Biên dịch mô hình\n",
    "model.compile(optimizer=Adam(learning_rate=0.0005),  \n",
    "              loss='categorical_crossentropy', \n",
    "              metrics=['accuracy'])\n",
    "\n",
    "# Định nghĩa callback EarlyStopping\n",
    "early_stopping = EarlyStopping(monitor='val_loss', patience=10, restore_best_weights=True, verbose=1)\n",
    "\n",
    "# Huấn luyện mô hình với Early Stopping\n",
    "history = model.fit(X_train, y_train_one_hot, epochs=52, batch_size=128, validation_split=0.2, verbose=1, callbacks=[early_stopping])\n",
    "\n",
    "# Đánh giá mô hình trên tập kiểm tra\n",
    "loss, accuracy = model.evaluate(X_test, y_test_one_hot)\n",
    "print(f'Test loss: {loss}\\nTest accuracy: {accuracy}')"
   ]
  },
  {
   "cell_type": "markdown",
   "id": "f23806d3",
   "metadata": {},
   "source": [
    "# Vẽ đồ thị loss và accuracy"
   ]
  },
  {
   "cell_type": "code",
   "execution_count": 8,
   "id": "6f80579e",
   "metadata": {},
   "outputs": [
    {
     "data": {
      "image/png": "[encoded data removed]",
      "text/plain": [
       "<Figure size 640x480 with 1 Axes>"
      ]
     },
     "metadata": {},
     "output_type": "display_data"
    },
    {
     "data": {
      "image/png": "[encoded data removed]",
      "text/plain": [
       "<Figure size 640x480 with 1 Axes>"
      ]
     },
     "metadata": {},
     "output_type": "display_data"
    }
   ],
   "source": [
    "plt.plot(history.history['loss'], label='Training Loss')\n",
    "plt.plot(history.history['val_loss'], label='Validation Loss')\n",
    "plt.title('Training and Validation Loss')\n",
    "plt.legend()\n",
    "plt.show()\n",
    "\n",
    "plt.plot(history.history['accuracy'], label='Training Accuracy')\n",
    "plt.plot(history.history['val_accuracy'], label='Validation Accuracy')\n",
    "plt.title('Training and Validation Accuracy')\n",
    "plt.legend()\n",
    "plt.show()"
   ]
  },
  {
   "cell_type": "markdown",
   "id": "0cf8aca4",
   "metadata": {},
   "source": [
    "# Bước 4: Dự đoán"
   ]
  },
  {
   "cell_type": "code",
   "execution_count": 9,
   "id": "35112969",
   "metadata": {},
   "outputs": [
    {
     "data": {
      "application/vnd.jupyter.widget-view+json": {
       "model_id": "5c42ec416f9841cebba4fa0963f3b8d5",
       "version_major": 2,
       "version_minor": 0
      },
      "text/plain": [
       "Checkbox(value=False, description='Trình bày luận điểm một cách có hệ thống rõ ràng')"
      ]
     },
     "metadata": {},
     "output_type": "display_data"
    },
    {
     "data": {
      "application/vnd.jupyter.widget-view+json": {
       "model_id": "c629dd9e46cf44f5b1ef53d64196ffb7",
       "version_major": 2,
       "version_minor": 0
      },
      "text/plain": [
       "Checkbox(value=False, description='Sử dụng dẫn chứng thống kê đáng tin cậy')"
      ]
     },
     "metadata": {},
     "output_type": "display_data"
    },
    {
     "data": {
      "application/vnd.jupyter.widget-view+json": {
       "model_id": "34a83943666e417494bee7fb2de467f5",
       "version_major": 2,
       "version_minor": 0
      },
      "text/plain": [
       "Checkbox(value=False, description='Chủ động đưa ra các ví dụ trường hợp cụ thể để minh họa cho luận điểm')"
      ]
     },
     "metadata": {},
     "output_type": "display_data"
    },
    {
     "data": {
      "application/vnd.jupyter.widget-view+json": {
       "model_id": "9b3706557e954585a8dd240343e52a29",
       "version_major": 2,
       "version_minor": 0
      },
      "text/plain": [
       "Checkbox(value=False, description='Có khả năng tóm tắt vấn đề một cách rõ ràng ngắn gọn')"
      ]
     },
     "metadata": {},
     "output_type": "display_data"
    },
    {
     "data": {
      "application/vnd.jupyter.widget-view+json": {
       "model_id": "74b58386c80a4da2ad49ae2b680a6792",
       "version_major": 2,
       "version_minor": 0
      },
      "text/plain": [
       "Checkbox(value=False, description='Sử dụng ngôn ngữ rõ ràng logic và lập luận chặt chẽ')"
      ]
     },
     "metadata": {},
     "output_type": "display_data"
    },
    {
     "data": {
      "application/vnd.jupyter.widget-view+json": {
       "model_id": "2719f3a93b374235961d4d80fb75f581",
       "version_major": 2,
       "version_minor": 0
      },
      "text/plain": [
       "Checkbox(value=False, description='Có khả năng điều chỉnh quan điểm dựa trên lập luận và bằng chứng mới')"
      ]
     },
     "metadata": {},
     "output_type": "display_data"
    },
    {
     "data": {
      "application/vnd.jupyter.widget-view+json": {
       "model_id": "fccc6d626038454ab4dadbcc5306929c",
       "version_major": 2,
       "version_minor": 0
      },
      "text/plain": [
       "Checkbox(value=False, description='Trình bày các bằng chứng dẫn chứng thuyết phục')"
      ]
     },
     "metadata": {},
     "output_type": "display_data"
    },
    {
     "data": {
      "application/vnd.jupyter.widget-view+json": {
       "model_id": "55bdfc793a424fdb919f23e36614b30b",
       "version_major": 2,
       "version_minor": 0
      },
      "text/plain": [
       "Checkbox(value=False, description='Sử dụng ngữ điệu nhấn nhá hợp lý khi nói để thu hút người nghe')"
      ]
     },
     "metadata": {},
     "output_type": "display_data"
    },
    {
     "data": {
      "application/vnd.jupyter.widget-view+json": {
       "model_id": "71c02d37e2c7478e9ddb11895383b6bb",
       "version_major": 2,
       "version_minor": 0
      },
      "text/plain": [
       "Checkbox(value=False, description='Biết lắng nghe và tôn trọng quan điểm của đối phương')"
      ]
     },
     "metadata": {},
     "output_type": "display_data"
    },
    {
     "data": {
      "application/vnd.jupyter.widget-view+json": {
       "model_id": "963b6a0509064f38a27823ae8b9f994f",
       "version_major": 2,
       "version_minor": 0
      },
      "text/plain": [
       "Checkbox(value=False, description='Sẵn sàng thừa nhận sai sót nếu có bằng chứng chứng minh')"
      ]
     },
     "metadata": {},
     "output_type": "display_data"
    },
    {
     "data": {
      "application/vnd.jupyter.widget-view+json": {
       "model_id": "d071fd7b657a4d7fa560d12aabb6a75c",
       "version_major": 2,
       "version_minor": 0
      },
      "text/plain": [
       "Checkbox(value=False, description='Tự tin bình tĩnh và tập trung cao độ trong suốt quá trình tranh luận')"
      ]
     },
     "metadata": {},
     "output_type": "display_data"
    },
    {
     "data": {
      "application/vnd.jupyter.widget-view+json": {
       "model_id": "c743171ca407453aa11833b7f0c856c6",
       "version_major": 2,
       "version_minor": 0
      },
      "text/plain": [
       "Checkbox(value=False, description='Có khả năng đọc hiểu và sử dụng ngôn ngữ cơ thể một cách chuyên nghiệp')"
      ]
     },
     "metadata": {},
     "output_type": "display_data"
    },
    {
     "data": {
      "application/vnd.jupyter.widget-view+json": {
       "model_id": "acff4dc74ee74775a210ec16643ad697",
       "version_major": 2,
       "version_minor": 0
      },
      "text/plain": [
       "Checkbox(value=False, description='Phân tích các luận điểm một cách khách quan')"
      ]
     },
     "metadata": {},
     "output_type": "display_data"
    },
    {
     "data": {
      "application/vnd.jupyter.widget-view+json": {
       "model_id": "9a9772539f464650bfef985acbaa853b",
       "version_major": 2,
       "version_minor": 0
      },
      "text/plain": [
       "Checkbox(value=False, description='Đặt câu hỏi sâu sắc để làm rõ vấn đề')"
      ]
     },
     "metadata": {},
     "output_type": "display_data"
    },
    {
     "data": {
      "application/vnd.jupyter.widget-view+json": {
       "model_id": "eb8c3b6a5546428abc902b1c5b7130c6",
       "version_major": 2,
       "version_minor": 0
      },
      "text/plain": [
       "Checkbox(value=False, description='Giữ bình tĩnh và không cáu giận hay xúc phạm đối phương')"
      ]
     },
     "metadata": {},
     "output_type": "display_data"
    },
    {
     "data": {
      "application/vnd.jupyter.widget-view+json": {
       "model_id": "6464664a0a8a4c4fab7aaf5f947077e9",
       "version_major": 2,
       "version_minor": 0
      },
      "text/plain": [
       "Checkbox(value=False, description='Suy nghĩ sáng tạo đưa ra các giải pháp thay thế')"
      ]
     },
     "metadata": {},
     "output_type": "display_data"
    },
    {
     "data": {
      "application/vnd.jupyter.widget-view+json": {
       "model_id": "d96e66a4f4704c7690d317d076bfeca6",
       "version_major": 2,
       "version_minor": 0
      },
      "text/plain": [
       "Checkbox(value=False, description='Đánh giá cả hai mặt tích cực và tiêu cực của vấn đề')"
      ]
     },
     "metadata": {},
     "output_type": "display_data"
    },
    {
     "data": {
      "application/vnd.jupyter.widget-view+json": {
       "model_id": "2e32fbbaa3d94e0ba5508a58b741b147",
       "version_major": 2,
       "version_minor": 0
      },
      "text/plain": [
       "Checkbox(value=False, description='Có tư duy phản biện tốt')"
      ]
     },
     "metadata": {},
     "output_type": "display_data"
    },
    {
     "data": {
      "application/vnd.jupyter.widget-view+json": {
       "model_id": "861c1bf37c22497b9d2b0600ea37ecda",
       "version_major": 2,
       "version_minor": 0
      },
      "text/plain": [
       "Checkbox(value=False, description='Suy luận logic khi giải quyết vấn đề')"
      ]
     },
     "metadata": {},
     "output_type": "display_data"
    },
    {
     "data": {
      "application/vnd.jupyter.widget-view+json": {
       "model_id": "0fb32fff3adb427b8b41a6fdb164a50d",
       "version_major": 2,
       "version_minor": 0
      },
      "text/plain": [
       "Checkbox(value=False, description='Phân tích thông tin để đưa ra nhận định và suy luận')"
      ]
     },
     "metadata": {},
     "output_type": "display_data"
    },
    {
     "data": {
      "application/vnd.jupyter.widget-view+json": {
       "model_id": "1aae78f7063a4619bc6800ab1fc087fa",
       "version_major": 2,
       "version_minor": 0
      },
      "text/plain": [
       "Checkbox(value=False, description='Sử dụng lập luận logic để chứng minh điều gì đó')"
      ]
     },
     "metadata": {},
     "output_type": "display_data"
    },
    {
     "data": {
      "application/vnd.jupyter.widget-view+json": {
       "model_id": "996de43abdb747e9ab16ed351e6964b6",
       "version_major": 2,
       "version_minor": 0
      },
      "text/plain": [
       "Checkbox(value=False, description='Đưa ra giả thuyết và kiểm chứng chúng')"
      ]
     },
     "metadata": {},
     "output_type": "display_data"
    },
    {
     "data": {
      "application/vnd.jupyter.widget-view+json": {
       "model_id": "ea430ed2f9054880bdd77f558d1f9d84",
       "version_major": 2,
       "version_minor": 0
      },
      "text/plain": [
       "Checkbox(value=False, description='Nhận biết và tránh các sai lầm logic')"
      ]
     },
     "metadata": {},
     "output_type": "display_data"
    },
    {
     "data": {
      "application/vnd.jupyter.widget-view+json": {
       "model_id": "639954a9fe3d4981b38a231b69a7a6ce",
       "version_major": 2,
       "version_minor": 0
      },
      "text/plain": [
       "Checkbox(value=False, description='Áp dụng quy tắc loại trừ để tìm ra giải pháp')"
      ]
     },
     "metadata": {},
     "output_type": "display_data"
    },
    {
     "data": {
      "application/vnd.jupyter.widget-view+json": {
       "model_id": "04757a7eac33443e9c8be819d0ec40e7",
       "version_major": 2,
       "version_minor": 0
      },
      "text/plain": [
       "Checkbox(value=False, description='Đặt câu hỏi để thách thức và kiểm chứng thông tin')"
      ]
     },
     "metadata": {},
     "output_type": "display_data"
    },
    {
     "data": {
      "application/vnd.jupyter.widget-view+json": {
       "model_id": "7143ead576a64991ab43ff3229eda624",
       "version_major": 2,
       "version_minor": 0
      },
      "text/plain": [
       "Checkbox(value=False, description='Phân tích các luận điểm và đánh giá bằng chứng')"
      ]
     },
     "metadata": {},
     "output_type": "display_data"
    },
    {
     "data": {
      "application/vnd.jupyter.widget-view+json": {
       "model_id": "932d1aa6936447d784f1addc8350a0fe",
       "version_major": 2,
       "version_minor": 0
      },
      "text/plain": [
       "Checkbox(value=False, description='Xét vấn đề từ nhiều khía cạnh và quan điểm')"
      ]
     },
     "metadata": {},
     "output_type": "display_data"
    },
    {
     "data": {
      "application/vnd.jupyter.widget-view+json": {
       "model_id": "d4c47ff6533d41418a3c2210a3e378c4",
       "version_major": 2,
       "version_minor": 0
      },
      "text/plain": [
       "Checkbox(value=False, description='Sử dụng lý luận logic để đưa ra kết luận')"
      ]
     },
     "metadata": {},
     "output_type": "display_data"
    },
    {
     "data": {
      "application/vnd.jupyter.widget-view+json": {
       "model_id": "092716ea5833410ea383c9d4fe853413",
       "version_major": 2,
       "version_minor": 0
      },
      "text/plain": [
       "Checkbox(value=False, description='Tích cực tìm kiếm các quan điểm đối lập')"
      ]
     },
     "metadata": {},
     "output_type": "display_data"
    },
    {
     "data": {
      "application/vnd.jupyter.widget-view+json": {
       "model_id": "4b398cd4975f4ac5acaa582b72f3dac5",
       "version_major": 2,
       "version_minor": 0
      },
      "text/plain": [
       "Checkbox(value=False, description='Biết cách kiểm tra và xác minh tính đúng đắn của thông tin ')"
      ]
     },
     "metadata": {},
     "output_type": "display_data"
    },
    {
     "data": {
      "application/vnd.jupyter.widget-view+json": {
       "model_id": "e70217bf5edf42db99aed2527c1ef750",
       "version_major": 2,
       "version_minor": 0
      },
      "text/plain": [
       "Checkbox(value=False, description='Kết nối các ý tưởng rời rạc để tạo ra giải pháp mới')"
      ]
     },
     "metadata": {},
     "output_type": "display_data"
    },
    {
     "data": {
      "application/vnd.jupyter.widget-view+json": {
       "model_id": "b6406553360945e4adcbd9a963f753ba",
       "version_major": 2,
       "version_minor": 0
      },
      "text/plain": [
       "Checkbox(value=False, description='Sẵn lòng thử nghiệm những ý tưởng mới và táo bạo')"
      ]
     },
     "metadata": {},
     "output_type": "display_data"
    },
    {
     "data": {
      "application/vnd.jupyter.widget-view+json": {
       "model_id": "72adb92960c046eda62183016c96694c",
       "version_major": 2,
       "version_minor": 0
      },
      "text/plain": [
       "Checkbox(value=False, description='Tạo ra ý tưởng độc đáo và không giới hạn')"
      ]
     },
     "metadata": {},
     "output_type": "display_data"
    },
    {
     "data": {
      "application/vnd.jupyter.widget-view+json": {
       "model_id": "f171f4be597740d591d50b470856772c",
       "version_major": 2,
       "version_minor": 0
      },
      "text/plain": [
       "Checkbox(value=False, description='Chấp nhận rủi ro và học hỏi từ thất bại')"
      ]
     },
     "metadata": {},
     "output_type": "display_data"
    },
    {
     "data": {
      "application/vnd.jupyter.widget-view+json": {
       "model_id": "11f8075a9dd1437ba0d59f2c4b14d9a9",
       "version_major": 2,
       "version_minor": 0
      },
      "text/plain": [
       "Checkbox(value=False, description='Luôn tò mò với mọi thứ đang tìm hiểu')"
      ]
     },
     "metadata": {},
     "output_type": "display_data"
    },
    {
     "data": {
      "application/vnd.jupyter.widget-view+json": {
       "model_id": "d2f9ff670c8d4b4ba9e619d9142fbfcc",
       "version_major": 2,
       "version_minor": 0
      },
      "text/plain": [
       "Checkbox(value=False, description='Biết cách áp dụng những kiến thức đã học và biến chúng thành giải pháp sáng…"
      ]
     },
     "metadata": {},
     "output_type": "display_data"
    },
    {
     "data": {
      "application/vnd.jupyter.widget-view+json": {
       "model_id": "396a1a96210e4484b0f9e00636bb65c2",
       "version_major": 2,
       "version_minor": 0
      },
      "text/plain": [
       "Checkbox(value=False, description='Lập kế hoạch và tổ chức thời gian và tài nguyên')"
      ]
     },
     "metadata": {},
     "output_type": "display_data"
    },
    {
     "data": {
      "application/vnd.jupyter.widget-view+json": {
       "model_id": "efc6b01f144b42148cbc35aa2199df3e",
       "version_major": 2,
       "version_minor": 0
      },
      "text/plain": [
       "Checkbox(value=False, description='Sử dụng kỹ năng quản lý để giải quyết vấn đề và đạt được mục tiêu')"
      ]
     },
     "metadata": {},
     "output_type": "display_data"
    },
    {
     "data": {
      "application/vnd.jupyter.widget-view+json": {
       "model_id": "e59cfa31f04349e2941f22199fecf6d0",
       "version_major": 2,
       "version_minor": 0
      },
      "text/plain": [
       "Checkbox(value=False, description='Theo dõi và đánh giá tiến độ và hiệu suất')"
      ]
     },
     "metadata": {},
     "output_type": "display_data"
    },
    {
     "data": {
      "application/vnd.jupyter.widget-view+json": {
       "model_id": "992a811ff66c4229a32f529ba5130f02",
       "version_major": 2,
       "version_minor": 0
      },
      "text/plain": [
       "Checkbox(value=False, description='Khả năng thích nghi với thay đổi và quản lý rủi ro')"
      ]
     },
     "metadata": {},
     "output_type": "display_data"
    },
    {
     "data": {
      "application/vnd.jupyter.widget-view+json": {
       "model_id": "50501b9e1e1048f6bb076d50cc664ac4",
       "version_major": 2,
       "version_minor": 0
      },
      "text/plain": [
       "Checkbox(value=False, description='Lập kế hoạch dự phòng và ứng phó với tình huống khẩn cấp')"
      ]
     },
     "metadata": {},
     "output_type": "display_data"
    },
    {
     "data": {
      "application/vnd.jupyter.widget-view+json": {
       "model_id": "319c0483d8ba4e8ea03447a009214604",
       "version_major": 2,
       "version_minor": 0
      },
      "text/plain": [
       "Checkbox(value=False, description='Biết cách xử lý xung đột và giải quyết vấn đề hiệu quả')"
      ]
     },
     "metadata": {},
     "output_type": "display_data"
    },
    {
     "data": {
      "application/vnd.jupyter.widget-view+json": {
       "model_id": "087fc5b863c54b6598a763c61203e973",
       "version_major": 2,
       "version_minor": 0
      },
      "text/plain": [
       "Checkbox(value=False, description='Giữ bình tĩnh dù trong tình huống gây cấn')"
      ]
     },
     "metadata": {},
     "output_type": "display_data"
    },
    {
     "data": {
      "application/vnd.jupyter.widget-view+json": {
       "model_id": "2ec021ed98454c83a63f4b6ee83afbf8",
       "version_major": 2,
       "version_minor": 0
      },
      "text/plain": [
       "Checkbox(value=False, description='Phản ứng một cách suy nghĩ thay vì phản xạ tức thời dựa trên cảm xúc')"
      ]
     },
     "metadata": {},
     "output_type": "display_data"
    },
    {
     "data": {
      "application/vnd.jupyter.widget-view+json": {
       "model_id": "14735356d66d4faaa2337c7e85847af8",
       "version_major": 2,
       "version_minor": 0
      },
      "text/plain": [
       "Checkbox(value=False, description='Nhận biết cảm xúc của bản thân và điều chỉnh phản ứng cho phù hợp')"
      ]
     },
     "metadata": {},
     "output_type": "display_data"
    },
    {
     "data": {
      "application/vnd.jupyter.widget-view+json": {
       "model_id": "282bc932fcac439e852f3e3d493effac",
       "version_major": 2,
       "version_minor": 0
      },
      "text/plain": [
       "Checkbox(value=False, description='Không để cảm xúc cá nhân ảnh hưởng đến lập luận')"
      ]
     },
     "metadata": {},
     "output_type": "display_data"
    },
    {
     "data": {
      "application/vnd.jupyter.widget-view+json": {
       "model_id": "5b477c30358046369e52f4aca317dad0",
       "version_major": 2,
       "version_minor": 0
      },
      "text/plain": [
       "Checkbox(value=False, description='Sử dụng ngôn ngữ tích cực tránh ngôn ngữ tiêu cực hay công kích')"
      ]
     },
     "metadata": {},
     "output_type": "display_data"
    },
    {
     "data": {
      "application/vnd.jupyter.widget-view+json": {
       "model_id": "31272cccd911405ab57383b305d3e494",
       "version_major": 2,
       "version_minor": 0
      },
      "text/plain": [
       "Checkbox(value=False, description='Duy trì sự tôn trọng đối với người khác dù trong tranh cãi')"
      ]
     },
     "metadata": {},
     "output_type": "display_data"
    },
    {
     "data": {
      "application/vnd.jupyter.widget-view+json": {
       "model_id": "204788f70ece4036a349bd3bc125a776",
       "version_major": 2,
       "version_minor": 0
      },
      "text/plain": [
       "Checkbox(value=False, description='Lập kế hoạch và ưu tiên các phần của cuộc tranh luận')"
      ]
     },
     "metadata": {},
     "output_type": "display_data"
    },
    {
     "data": {
      "application/vnd.jupyter.widget-view+json": {
       "model_id": "2419d8a0bd60408182dae31613471990",
       "version_major": 2,
       "version_minor": 0
      },
      "text/plain": [
       "Checkbox(value=False, description='Đảm bảo mỗi phần của luận điểm được trình bày đầy đủ trong thời gian có hạn…"
      ]
     },
     "metadata": {},
     "output_type": "display_data"
    },
    {
     "data": {
      "application/vnd.jupyter.widget-view+json": {
       "model_id": "142b1f6bfaf447d1b5dc246f34341f61",
       "version_major": 2,
       "version_minor": 0
      },
      "text/plain": [
       "Checkbox(value=False, description='Tránh lan man tập trung vào mục tiêu đã xác định')"
      ]
     },
     "metadata": {},
     "output_type": "display_data"
    },
    {
     "data": {
      "application/vnd.jupyter.widget-view+json": {
       "model_id": "eedbb258b7674ae1927e561b930c6562",
       "version_major": 2,
       "version_minor": 0
      },
      "text/plain": [
       "Checkbox(value=False, description='Sử dụng thời gian hiệu quả để tạo ra sức mạnh cho luận điểm')"
      ]
     },
     "metadata": {},
     "output_type": "display_data"
    },
    {
     "data": {
      "application/vnd.jupyter.widget-view+json": {
       "model_id": "cca39eae0c164a6494358af563b68c2a",
       "version_major": 2,
       "version_minor": 0
      },
      "text/plain": [
       "Checkbox(value=False, description='Phân bổ thời gian cho việc nghe và phản hồi')"
      ]
     },
     "metadata": {},
     "output_type": "display_data"
    },
    {
     "data": {
      "application/vnd.jupyter.widget-view+json": {
       "model_id": "b38e3beff41d479f8c41e77cb9aed544",
       "version_major": 2,
       "version_minor": 0
      },
      "text/plain": [
       "Checkbox(value=False, description='Không lập kế hoạch hoặc ưu tiên các phần của cuộc tranh luận dẫn đến sự rối…"
      ]
     },
     "metadata": {},
     "output_type": "display_data"
    },
    {
     "data": {
      "application/vnd.jupyter.widget-view+json": {
       "model_id": "a9413bb19733484da6a9bb0f98e0f28c",
       "version_major": 2,
       "version_minor": 0
      },
      "text/plain": [
       "Checkbox(value=False, description='Xác định thông tin quan trọng và liên quan từ trong một lượng lớn dữ liệu')"
      ]
     },
     "metadata": {},
     "output_type": "display_data"
    },
    {
     "data": {
      "application/vnd.jupyter.widget-view+json": {
       "model_id": "110a0577ceea4b799994019f01ad813c",
       "version_major": 2,
       "version_minor": 0
      },
      "text/plain": [
       "Checkbox(value=False, description='Phân biệt giữa ý kiến và thực tế')"
      ]
     },
     "metadata": {},
     "output_type": "display_data"
    },
    {
     "data": {
      "application/vnd.jupyter.widget-view+json": {
       "model_id": "3a9f0ea401374ccd88c59ec239fd66cd",
       "version_major": 2,
       "version_minor": 0
      },
      "text/plain": [
       "Checkbox(value=False, description='Nhận diện mối liên hệ giữa các thông tin và ý tưởng')"
      ]
     },
     "metadata": {},
     "output_type": "display_data"
    },
    {
     "data": {
      "application/vnd.jupyter.widget-view+json": {
       "model_id": "b8404bc920314cbd8d90355df5aec3e4",
       "version_major": 2,
       "version_minor": 0
      },
      "text/plain": [
       "Checkbox(value=False, description='Đánh giá sức mạnh và điểm yếu của một luận điểm')"
      ]
     },
     "metadata": {},
     "output_type": "display_data"
    },
    {
     "data": {
      "application/vnd.jupyter.widget-view+json": {
       "model_id": "87bfc491fcba4bc5ab539fbb6193f6d6",
       "version_major": 2,
       "version_minor": 0
      },
      "text/plain": [
       "Checkbox(value=False, description='Sử dụng phân tích để phát triển luận điểm mạnh mẽ')"
      ]
     },
     "metadata": {},
     "output_type": "display_data"
    },
    {
     "data": {
      "application/vnd.jupyter.widget-view+json": {
       "model_id": "9795eca7a1154576b84aa56b6abaac50",
       "version_major": 2,
       "version_minor": 0
      },
      "text/plain": [
       "Checkbox(value=False, description='Đưa ra kết luận dựa trên bằng chứng và phân tích')"
      ]
     },
     "metadata": {},
     "output_type": "display_data"
    },
    {
     "data": {
      "application/vnd.jupyter.widget-view+json": {
       "model_id": "6e455306157c4828af80a21465e2d0fc",
       "version_major": 2,
       "version_minor": 0
      },
      "text/plain": [
       "Checkbox(value=False, description='Áp dụng logic để từng bước tiến tới kết luận')"
      ]
     },
     "metadata": {},
     "output_type": "display_data"
    },
    {
     "data": {
      "application/vnd.jupyter.widget-view+json": {
       "model_id": "dc613397815741d783318b39b0fb8cbe",
       "version_major": 2,
       "version_minor": 0
      },
      "text/plain": [
       "Checkbox(value=False, description='Sử dụng suy luận để nối kết thông tin và bằng chứng')"
      ]
     },
     "metadata": {},
     "output_type": "display_data"
    },
    {
     "data": {
      "application/vnd.jupyter.widget-view+json": {
       "model_id": "f2842c6859c84e27a42bd072be133bf2",
       "version_major": 2,
       "version_minor": 0
      },
      "text/plain": [
       "Checkbox(value=False, description='Phát triển giả định dựa trên thông tin có sẵn')"
      ]
     },
     "metadata": {},
     "output_type": "display_data"
    },
    {
     "data": {
      "application/vnd.jupyter.widget-view+json": {
       "model_id": "e96756fc0282435fb79da1273b397d87",
       "version_major": 2,
       "version_minor": 0
      },
      "text/plain": [
       "Checkbox(value=False, description='Kiểm tra tính hợp lý của kết luận')"
      ]
     },
     "metadata": {},
     "output_type": "display_data"
    },
    {
     "data": {
      "application/vnd.jupyter.widget-view+json": {
       "model_id": "c73578e4f41f4547b82f6d5419c41edc",
       "version_major": 2,
       "version_minor": 0
      },
      "text/plain": [
       "Checkbox(value=False, description='Phân biệt giữa suy luận hợp lệ và không hợp lệ')"
      ]
     },
     "metadata": {},
     "output_type": "display_data"
    },
    {
     "data": {
      "application/vnd.jupyter.widget-view+json": {
       "model_id": "95fae3128fb74d84a75d4e9cedc42427",
       "version_major": 2,
       "version_minor": 0
      },
      "text/plain": [
       "Checkbox(value=False, description='Sử dụng suy luận để chứng minh hoặc bác bỏ một luận điểm')"
      ]
     },
     "metadata": {},
     "output_type": "display_data"
    },
    {
     "data": {
      "application/vnd.jupyter.widget-view+json": {
       "model_id": "89908a081a3a401cb22eafbac7e51bd6",
       "version_major": 2,
       "version_minor": 0
      },
      "text/plain": [
       "Checkbox(value=False, description='Đánh giá một cách khách quan tính chính xác và độ tin cậy của nguồn thông t…"
      ]
     },
     "metadata": {},
     "output_type": "display_data"
    },
    {
     "data": {
      "application/vnd.jupyter.widget-view+json": {
       "model_id": "66075aa8f8b444cbb966a3e86238a546",
       "version_major": 2,
       "version_minor": 0
      },
      "text/plain": [
       "Checkbox(value=False, description='Cân nhắc các quan điểm và luận điểm từ nhiều góc độ khác nhau')"
      ]
     },
     "metadata": {},
     "output_type": "display_data"
    },
    {
     "data": {
      "application/vnd.jupyter.widget-view+json": {
       "model_id": "68a749c1a23d4590a12a679bbed99d3d",
       "version_major": 2,
       "version_minor": 0
      },
      "text/plain": [
       "Checkbox(value=False, description='Phân biệt được giữa bằng chứng mạnh và yếu')"
      ]
     },
     "metadata": {},
     "output_type": "display_data"
    },
    {
     "data": {
      "application/vnd.jupyter.widget-view+json": {
       "model_id": "eebaa74a238c40fb8ca36ced9c9d80aa",
       "version_major": 2,
       "version_minor": 0
      },
      "text/plain": [
       "Checkbox(value=False, description='Nhận diện được các lỗi logic và thiếu sót trong lập luận')"
      ]
     },
     "metadata": {},
     "output_type": "display_data"
    },
    {
     "data": {
      "application/vnd.jupyter.widget-view+json": {
       "model_id": "2d25bd971f9a424c9d06de3609e6e4e1",
       "version_major": 2,
       "version_minor": 0
      },
      "text/plain": [
       "Checkbox(value=False, description='Sử dụng tiêu chí rõ ràng và công bằng để đánh giá luận điểm')"
      ]
     },
     "metadata": {},
     "output_type": "display_data"
    },
    {
     "data": {
      "application/vnd.jupyter.widget-view+json": {
       "model_id": "0fd4f824f8a24b7a889e2e6ff82034ff",
       "version_major": 2,
       "version_minor": 0
      },
      "text/plain": [
       "Checkbox(value=False, description='Đưa ra phản hồi và gợi ý cải thiện dựa trên đánh giá')"
      ]
     },
     "metadata": {},
     "output_type": "display_data"
    },
    {
     "data": {
      "application/vnd.jupyter.widget-view+json": {
       "model_id": "ad941b02f6b9446d94324550801e2b50",
       "version_major": 2,
       "version_minor": 0
      },
      "text/plain": [
       "Checkbox(value=False, description='Kết hợp thông tin từ nhiều nguồn để tạo ra một cái nhìn tổng thể')"
      ]
     },
     "metadata": {},
     "output_type": "display_data"
    },
    {
     "data": {
      "application/vnd.jupyter.widget-view+json": {
       "model_id": "5054bc4866284aafabb028fab88372e0",
       "version_major": 2,
       "version_minor": 0
      },
      "text/plain": [
       "Checkbox(value=False, description='Xem xét mối quan hệ giữa các ý tưởng và thông tin để xây dựng luận điểm mới…"
      ]
     },
     "metadata": {},
     "output_type": "display_data"
    },
    {
     "data": {
      "application/vnd.jupyter.widget-view+json": {
       "model_id": "f22e7d63434d48b5a0d2d8ca1aac99cb",
       "version_major": 2,
       "version_minor": 0
      },
      "text/plain": [
       "Checkbox(value=False, description='Tạo liên kết giữa các quan điểm và lập luận có vẻ mâu thuẫn nhau')"
      ]
     },
     "metadata": {},
     "output_type": "display_data"
    },
    {
     "data": {
      "application/vnd.jupyter.widget-view+json": {
       "model_id": "7261a9944ebf4538a7c33545be65d42d",
       "version_major": 2,
       "version_minor": 0
      },
      "text/plain": [
       "Checkbox(value=False, description='Sử dụng tư duy sáng tạo để phát triển giải pháp hoặc ý tưởng mới')"
      ]
     },
     "metadata": {},
     "output_type": "display_data"
    },
    {
     "data": {
      "application/vnd.jupyter.widget-view+json": {
       "model_id": "7b70dd028c1541238d50a3f878ec1cbe",
       "version_major": 2,
       "version_minor": 0
      },
      "text/plain": [
       "Checkbox(value=False, description='Tổng hợp kết luận dựa trên đánh giá và phân tích')"
      ]
     },
     "metadata": {},
     "output_type": "display_data"
    },
    {
     "data": {
      "application/vnd.jupyter.widget-view+json": {
       "model_id": "5bf63de09e8b43b1a84e9d517f4945ea",
       "version_major": 2,
       "version_minor": 0
      },
      "text/plain": [
       "Checkbox(value=False, description='Trình bày thông tin một cách rõ ràng và mạch lạc thể hiện sự hiểu biết tổng…"
      ]
     },
     "metadata": {},
     "output_type": "display_data"
    },
    {
     "data": {
      "application/vnd.jupyter.widget-view+json": {
       "model_id": "aaa326c8805b4a438c78ee9ceaed28a4",
       "version_major": 2,
       "version_minor": 0
      },
      "text/plain": [
       "Button(description='Dự đoán kỹ năng', style=ButtonStyle())"
      ]
     },
     "metadata": {},
     "output_type": "display_data"
    },
    {
     "name": "stdout",
     "output_type": "stream",
     "text": [
      "\u001b[1m26/26\u001b[0m \u001b[32m━━━━━━━━━━━━━━━━━━━━\u001b[0m\u001b[37m\u001b[0m \u001b[1m0s\u001b[0m 3ms/step\n",
      "Kỹ năng dự đoán cao nhất: Kỹ năng tranh luận Lập luận Logic với 28.67% tỷ lệ chắc chắn.\n"
     ]
    }
   ],
   "source": [
    "from ipywidgets import widgets\n",
    "from IPython.display import display\n",
    "import numpy as np\n",
    "\n",
    "# Tạo checkbox cho mỗi biểu hiện từ tập dữ liệu\n",
    "checkboxes = [widgets.Checkbox(description=column) for column in X.columns]\n",
    "\n",
    "# Hiển thị các checkbox\n",
    "for checkbox in checkboxes:\n",
    "    display(checkbox)\n",
    "\n",
    "# Tạo button để thực hiện dự đoán\n",
    "button = widgets.Button(description=\"Dự đoán kỹ năng\")\n",
    "display(button)\n",
    "\n",
    "def predict_skills(button):\n",
    "    selected_features = [checkbox.description for checkbox in checkboxes if checkbox.value]\n",
    "    \n",
    "    if not selected_features:\n",
    "        print(\"Vui lòng chọn ít nhất một biểu hiện.\")\n",
    "        return\n",
    "    \n",
    "    # Chuẩn bị dữ liệu dự đoán\n",
    "    input_data = X.loc[:, selected_features].astype(float)\n",
    "    missing_columns = set(X_train.columns) - set(input_data.columns)\n",
    "    for column in missing_columns:\n",
    "        input_data[column] = 0\n",
    "    input_data = input_data[X_train.columns]  # Đảm bảo cùng thứ tự cột\n",
    "    \n",
    "    # Dự đoán và tìm kỹ năng có tỷ lệ % cao nhất\n",
    "    predictions = model.predict(input_data)\n",
    "    predicted_classes = np.argmax(predictions, axis=1)\n",
    "    probabilities = np.max(predictions, axis=1) * 100  # Tính tỷ lệ %\n",
    "    \n",
    "    # Hiển thị kết quả dự đoán với tỷ lệ % cao nhất\n",
    "    highest_probability_index = np.argmax(probabilities)\n",
    "    highest_probability = probabilities[highest_probability_index]\n",
    "    highest_skill = label_encoder.classes_[predicted_classes[highest_probability_index]]\n",
    "    \n",
    "    print(f\"Kỹ năng dự đoán cao nhất: {highest_skill} với {highest_probability:.2f}% tỷ lệ chắc chắn.\")\n",
    "    \n",
    "# Gán sự kiện click cho button\n",
    "button.on_click(predict_skills)\n"
   ]
  },
  {
   "cell_type": "code",
   "execution_count": null,
   "id": "ec1b1e1d",
   "metadata": {},
   "outputs": [],
   "source": []
  }
 ],
 "metadata": {
  "kernelspec": {
   "display_name": "Python 3 (ipykernel)",
   "language": "python",
   "name": "python3"
  },
  "language_info": {
   "codemirror_mode": {
    "name": "ipython",
    "version": 3
   },
   "file_extension": ".py",
   "mimetype": "text/x-python",
   "name": "python",
   "nbconvert_exporter": "python",
   "pygments_lexer": "ipython3",
   "version": "3.11.5"
  }
 },
 "nbformat": 4,
 "nbformat_minor": 5
}
